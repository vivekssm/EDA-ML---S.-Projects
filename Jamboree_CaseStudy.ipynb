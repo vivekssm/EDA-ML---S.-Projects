{
  "cells": [
    {
      "cell_type": "markdown",
      "metadata": {
        "id": "iX08O9yr58Jh"
      },
      "source": [
        "# Jamboree Case Study"
      ]
    },
    {
      "cell_type": "markdown",
      "metadata": {
        "id": "Y3FV0Rre58Jm"
      },
      "source": [
        "## About Jamboree"
      ]
    },
    {
      "cell_type": "markdown",
      "metadata": {
        "id": "CdTU8kr358Jn"
      },
      "source": [
        "Jamboree has helped thousands of students like you make it to top colleges abroad. Be it GMAT, GRE or SAT, their unique problem-solving methods ensure maximum scores with minimum effort.\n",
        "They recently launched a feature where students/learners can come to their website and check their probability of getting into the IVY league college. This feature estimates the chances of graduate admission from an Indian perspective."
      ]
    },
    {
      "cell_type": "markdown",
      "metadata": {
        "id": "YcWn_bhd58Jo"
      },
      "source": [
        "## Problem Statement"
      ]
    },
    {
      "cell_type": "markdown",
      "metadata": {
        "id": "0WZ39qy558Jp"
      },
      "source": [
        "- Help Jamboree in understanding what factors are important in graduate admissions and how these factors are interrelated among themselves. \n",
        "- Also help predict one's chances of admission given the rest of the variables.\n"
      ]
    },
    {
      "cell_type": "markdown",
      "metadata": {
        "id": "scLewALa58Jp"
      },
      "source": [
        "## Data Set:\n",
        "\n",
        "https://d2beiqkhq929f0.cloudfront.net/public_assets/assets/000/001/839/original/Jamboree_Admission.csv"
      ]
    },
    {
      "cell_type": "markdown",
      "metadata": {
        "id": "G54YqHNW58Jq"
      },
      "source": [
        "## Column Profiling"
      ]
    },
    {
      "cell_type": "markdown",
      "metadata": {
        "id": "fgas8qq758Jr"
      },
      "source": [
        "- Serial No. (Unique row ID)\n",
        "- GRE Scores (out of 340)\n",
        "- TOEFL Scores (out of 120)\n",
        "- University Rating (out of 5)\n",
        "- Statement of Purpose and Letter of Recommendation Strength (out of 5)\n",
        "- Undergraduate GPA (out of 10)\n",
        "- Research Experience (either 0 or 1)\n",
        "- Chance of Admit (ranging from 0 to 1)"
      ]
    },
    {
      "cell_type": "code",
      "execution_count": null,
      "metadata": {
        "id": "nz5ynXtX58Js"
      },
      "outputs": [],
      "source": [
        "import numpy as np\n",
        "import pandas as pd\n",
        "import matplotlib.pyplot as plt\n",
        "import scipy as sp\n",
        "import seaborn as sns"
      ]
    },
    {
      "cell_type": "markdown",
      "metadata": {
        "id": "ZQ_Myjo_58Jv"
      },
      "source": [
        "## Identification of variables and data types:"
      ]
    },
    {
      "cell_type": "code",
      "execution_count": null,
      "metadata": {
        "id": "IgDcMjFG58Jv"
      },
      "outputs": [],
      "source": [
        "df = pd.read_csv('Jamboree_Admission.csv')"
      ]
    },
    {
      "cell_type": "code",
      "execution_count": null,
      "metadata": {
        "id": "jUZCNA8Z58Jw",
        "outputId": "f65446ce-a26b-4843-a22d-c06c91562ead"
      },
      "outputs": [
        {
          "data": {
            "text/html": [
              "<div>\n",
              "<style scoped>\n",
              "    .dataframe tbody tr th:only-of-type {\n",
              "        vertical-align: middle;\n",
              "    }\n",
              "\n",
              "    .dataframe tbody tr th {\n",
              "        vertical-align: top;\n",
              "    }\n",
              "\n",
              "    .dataframe thead th {\n",
              "        text-align: right;\n",
              "    }\n",
              "</style>\n",
              "<table border=\"1\" class=\"dataframe\">\n",
              "  <thead>\n",
              "    <tr style=\"text-align: right;\">\n",
              "      <th></th>\n",
              "      <th>Serial No.</th>\n",
              "      <th>GRE Score</th>\n",
              "      <th>TOEFL Score</th>\n",
              "      <th>University Rating</th>\n",
              "      <th>SOP</th>\n",
              "      <th>LOR</th>\n",
              "      <th>CGPA</th>\n",
              "      <th>Research</th>\n",
              "      <th>Chance of Admit</th>\n",
              "    </tr>\n",
              "  </thead>\n",
              "  <tbody>\n",
              "    <tr>\n",
              "      <th>0</th>\n",
              "      <td>1</td>\n",
              "      <td>337</td>\n",
              "      <td>118</td>\n",
              "      <td>4</td>\n",
              "      <td>4.5</td>\n",
              "      <td>4.5</td>\n",
              "      <td>9.65</td>\n",
              "      <td>1</td>\n",
              "      <td>0.92</td>\n",
              "    </tr>\n",
              "    <tr>\n",
              "      <th>1</th>\n",
              "      <td>2</td>\n",
              "      <td>324</td>\n",
              "      <td>107</td>\n",
              "      <td>4</td>\n",
              "      <td>4.0</td>\n",
              "      <td>4.5</td>\n",
              "      <td>8.87</td>\n",
              "      <td>1</td>\n",
              "      <td>0.76</td>\n",
              "    </tr>\n",
              "    <tr>\n",
              "      <th>2</th>\n",
              "      <td>3</td>\n",
              "      <td>316</td>\n",
              "      <td>104</td>\n",
              "      <td>3</td>\n",
              "      <td>3.0</td>\n",
              "      <td>3.5</td>\n",
              "      <td>8.00</td>\n",
              "      <td>1</td>\n",
              "      <td>0.72</td>\n",
              "    </tr>\n",
              "    <tr>\n",
              "      <th>3</th>\n",
              "      <td>4</td>\n",
              "      <td>322</td>\n",
              "      <td>110</td>\n",
              "      <td>3</td>\n",
              "      <td>3.5</td>\n",
              "      <td>2.5</td>\n",
              "      <td>8.67</td>\n",
              "      <td>1</td>\n",
              "      <td>0.80</td>\n",
              "    </tr>\n",
              "    <tr>\n",
              "      <th>4</th>\n",
              "      <td>5</td>\n",
              "      <td>314</td>\n",
              "      <td>103</td>\n",
              "      <td>2</td>\n",
              "      <td>2.0</td>\n",
              "      <td>3.0</td>\n",
              "      <td>8.21</td>\n",
              "      <td>0</td>\n",
              "      <td>0.65</td>\n",
              "    </tr>\n",
              "  </tbody>\n",
              "</table>\n",
              "</div>"
            ],
            "text/plain": [
              "   Serial No.  GRE Score  TOEFL Score  University Rating  SOP  LOR   CGPA  \\\n",
              "0           1        337          118                  4  4.5   4.5  9.65   \n",
              "1           2        324          107                  4  4.0   4.5  8.87   \n",
              "2           3        316          104                  3  3.0   3.5  8.00   \n",
              "3           4        322          110                  3  3.5   2.5  8.67   \n",
              "4           5        314          103                  2  2.0   3.0  8.21   \n",
              "\n",
              "   Research  Chance of Admit   \n",
              "0         1              0.92  \n",
              "1         1              0.76  \n",
              "2         1              0.72  \n",
              "3         1              0.80  \n",
              "4         0              0.65  "
            ]
          },
          "execution_count": 3,
          "metadata": {},
          "output_type": "execute_result"
        }
      ],
      "source": [
        "df.head()"
      ]
    },
    {
      "cell_type": "code",
      "execution_count": null,
      "metadata": {
        "id": "oITPd0kK58Jx",
        "outputId": "3674b03f-669f-485f-c984-99b3e4c6d1cd"
      },
      "outputs": [
        {
          "name": "stdout",
          "output_type": "stream",
          "text": [
            "<class 'pandas.core.frame.DataFrame'>\n",
            "RangeIndex: 500 entries, 0 to 499\n",
            "Data columns (total 9 columns):\n",
            " #   Column             Non-Null Count  Dtype  \n",
            "---  ------             --------------  -----  \n",
            " 0   Serial No.         500 non-null    int64  \n",
            " 1   GRE Score          500 non-null    int64  \n",
            " 2   TOEFL Score        500 non-null    int64  \n",
            " 3   University Rating  500 non-null    int64  \n",
            " 4   SOP                500 non-null    float64\n",
            " 5   LOR                500 non-null    float64\n",
            " 6   CGPA               500 non-null    float64\n",
            " 7   Research           500 non-null    int64  \n",
            " 8   Chance of Admit    500 non-null    float64\n",
            "dtypes: float64(4), int64(5)\n",
            "memory usage: 35.3 KB\n"
          ]
        }
      ],
      "source": [
        "df.info()"
      ]
    },
    {
      "cell_type": "markdown",
      "metadata": {
        "id": "m_eaSWtU58Jy"
      },
      "source": [
        "## Analysing the basic metrics"
      ]
    },
    {
      "cell_type": "code",
      "execution_count": null,
      "metadata": {
        "id": "NoZE943X58Jz",
        "outputId": "e93b4bc1-8b8e-4e01-8938-5b4198d1e5c0"
      },
      "outputs": [
        {
          "data": {
            "text/html": [
              "<div>\n",
              "<style scoped>\n",
              "    .dataframe tbody tr th:only-of-type {\n",
              "        vertical-align: middle;\n",
              "    }\n",
              "\n",
              "    .dataframe tbody tr th {\n",
              "        vertical-align: top;\n",
              "    }\n",
              "\n",
              "    .dataframe thead th {\n",
              "        text-align: right;\n",
              "    }\n",
              "</style>\n",
              "<table border=\"1\" class=\"dataframe\">\n",
              "  <thead>\n",
              "    <tr style=\"text-align: right;\">\n",
              "      <th></th>\n",
              "      <th>Serial No.</th>\n",
              "      <th>GRE Score</th>\n",
              "      <th>TOEFL Score</th>\n",
              "      <th>University Rating</th>\n",
              "      <th>SOP</th>\n",
              "      <th>LOR</th>\n",
              "      <th>CGPA</th>\n",
              "      <th>Research</th>\n",
              "      <th>Chance of Admit</th>\n",
              "    </tr>\n",
              "  </thead>\n",
              "  <tbody>\n",
              "    <tr>\n",
              "      <th>count</th>\n",
              "      <td>500.000000</td>\n",
              "      <td>500.000000</td>\n",
              "      <td>500.000000</td>\n",
              "      <td>500.000000</td>\n",
              "      <td>500.000000</td>\n",
              "      <td>500.00000</td>\n",
              "      <td>500.000000</td>\n",
              "      <td>500.000000</td>\n",
              "      <td>500.00000</td>\n",
              "    </tr>\n",
              "    <tr>\n",
              "      <th>mean</th>\n",
              "      <td>250.500000</td>\n",
              "      <td>316.472000</td>\n",
              "      <td>107.192000</td>\n",
              "      <td>3.114000</td>\n",
              "      <td>3.374000</td>\n",
              "      <td>3.48400</td>\n",
              "      <td>8.576440</td>\n",
              "      <td>0.560000</td>\n",
              "      <td>0.72174</td>\n",
              "    </tr>\n",
              "    <tr>\n",
              "      <th>std</th>\n",
              "      <td>144.481833</td>\n",
              "      <td>11.295148</td>\n",
              "      <td>6.081868</td>\n",
              "      <td>1.143512</td>\n",
              "      <td>0.991004</td>\n",
              "      <td>0.92545</td>\n",
              "      <td>0.604813</td>\n",
              "      <td>0.496884</td>\n",
              "      <td>0.14114</td>\n",
              "    </tr>\n",
              "    <tr>\n",
              "      <th>min</th>\n",
              "      <td>1.000000</td>\n",
              "      <td>290.000000</td>\n",
              "      <td>92.000000</td>\n",
              "      <td>1.000000</td>\n",
              "      <td>1.000000</td>\n",
              "      <td>1.00000</td>\n",
              "      <td>6.800000</td>\n",
              "      <td>0.000000</td>\n",
              "      <td>0.34000</td>\n",
              "    </tr>\n",
              "    <tr>\n",
              "      <th>25%</th>\n",
              "      <td>125.750000</td>\n",
              "      <td>308.000000</td>\n",
              "      <td>103.000000</td>\n",
              "      <td>2.000000</td>\n",
              "      <td>2.500000</td>\n",
              "      <td>3.00000</td>\n",
              "      <td>8.127500</td>\n",
              "      <td>0.000000</td>\n",
              "      <td>0.63000</td>\n",
              "    </tr>\n",
              "    <tr>\n",
              "      <th>50%</th>\n",
              "      <td>250.500000</td>\n",
              "      <td>317.000000</td>\n",
              "      <td>107.000000</td>\n",
              "      <td>3.000000</td>\n",
              "      <td>3.500000</td>\n",
              "      <td>3.50000</td>\n",
              "      <td>8.560000</td>\n",
              "      <td>1.000000</td>\n",
              "      <td>0.72000</td>\n",
              "    </tr>\n",
              "    <tr>\n",
              "      <th>75%</th>\n",
              "      <td>375.250000</td>\n",
              "      <td>325.000000</td>\n",
              "      <td>112.000000</td>\n",
              "      <td>4.000000</td>\n",
              "      <td>4.000000</td>\n",
              "      <td>4.00000</td>\n",
              "      <td>9.040000</td>\n",
              "      <td>1.000000</td>\n",
              "      <td>0.82000</td>\n",
              "    </tr>\n",
              "    <tr>\n",
              "      <th>max</th>\n",
              "      <td>500.000000</td>\n",
              "      <td>340.000000</td>\n",
              "      <td>120.000000</td>\n",
              "      <td>5.000000</td>\n",
              "      <td>5.000000</td>\n",
              "      <td>5.00000</td>\n",
              "      <td>9.920000</td>\n",
              "      <td>1.000000</td>\n",
              "      <td>0.97000</td>\n",
              "    </tr>\n",
              "  </tbody>\n",
              "</table>\n",
              "</div>"
            ],
            "text/plain": [
              "       Serial No.   GRE Score  TOEFL Score  University Rating         SOP  \\\n",
              "count  500.000000  500.000000   500.000000         500.000000  500.000000   \n",
              "mean   250.500000  316.472000   107.192000           3.114000    3.374000   \n",
              "std    144.481833   11.295148     6.081868           1.143512    0.991004   \n",
              "min      1.000000  290.000000    92.000000           1.000000    1.000000   \n",
              "25%    125.750000  308.000000   103.000000           2.000000    2.500000   \n",
              "50%    250.500000  317.000000   107.000000           3.000000    3.500000   \n",
              "75%    375.250000  325.000000   112.000000           4.000000    4.000000   \n",
              "max    500.000000  340.000000   120.000000           5.000000    5.000000   \n",
              "\n",
              "            LOR         CGPA    Research  Chance of Admit   \n",
              "count  500.00000  500.000000  500.000000         500.00000  \n",
              "mean     3.48400    8.576440    0.560000           0.72174  \n",
              "std      0.92545    0.604813    0.496884           0.14114  \n",
              "min      1.00000    6.800000    0.000000           0.34000  \n",
              "25%      3.00000    8.127500    0.000000           0.63000  \n",
              "50%      3.50000    8.560000    1.000000           0.72000  \n",
              "75%      4.00000    9.040000    1.000000           0.82000  \n",
              "max      5.00000    9.920000    1.000000           0.97000  "
            ]
          },
          "execution_count": 5,
          "metadata": {},
          "output_type": "execute_result"
        }
      ],
      "source": [
        "df.describe()"
      ]
    },
    {
      "cell_type": "markdown",
      "metadata": {
        "id": "SNKlCpnh58Jz"
      },
      "source": [
        "### Null value analysis"
      ]
    },
    {
      "cell_type": "code",
      "execution_count": null,
      "metadata": {
        "id": "FzJJ_SHo58Jz",
        "outputId": "e59bb0f7-45dc-47f0-f6d3-40f151fae101"
      },
      "outputs": [
        {
          "data": {
            "text/plain": [
              "Serial No.           0\n",
              "GRE Score            0\n",
              "TOEFL Score          0\n",
              "University Rating    0\n",
              "SOP                  0\n",
              "LOR                  0\n",
              "CGPA                 0\n",
              "Research             0\n",
              "Chance of Admit      0\n",
              "dtype: int64"
            ]
          },
          "execution_count": 6,
          "metadata": {},
          "output_type": "execute_result"
        }
      ],
      "source": [
        "df.isnull().sum()"
      ]
    },
    {
      "cell_type": "markdown",
      "metadata": {
        "id": "v0zYuvIw58J0"
      },
      "source": [
        "We see that there are no null values and the data looks cleaning. No feature engineering/data cleaning as such nedded"
      ]
    },
    {
      "cell_type": "code",
      "execution_count": null,
      "metadata": {
        "id": "umoeZh4t58J0"
      },
      "outputs": [],
      "source": [
        "# Drop the serial number"
      ]
    },
    {
      "cell_type": "code",
      "execution_count": null,
      "metadata": {
        "id": "ldvaMFPa58J1"
      },
      "outputs": [],
      "source": [
        "df.drop(['Serial No.'],axis=1,inplace = True)"
      ]
    },
    {
      "cell_type": "markdown",
      "metadata": {
        "id": "iV8qU7KI58J1"
      },
      "source": [
        "## Exploratory Data Analysis"
      ]
    },
    {
      "cell_type": "code",
      "execution_count": null,
      "metadata": {
        "id": "CfByLoJ058J2",
        "outputId": "e3e85f95-9f05-4f27-9223-14c9c62d44b5"
      },
      "outputs": [
        {
          "data": {
            "text/html": [
              "<div>\n",
              "<style scoped>\n",
              "    .dataframe tbody tr th:only-of-type {\n",
              "        vertical-align: middle;\n",
              "    }\n",
              "\n",
              "    .dataframe tbody tr th {\n",
              "        vertical-align: top;\n",
              "    }\n",
              "\n",
              "    .dataframe thead th {\n",
              "        text-align: right;\n",
              "    }\n",
              "</style>\n",
              "<table border=\"1\" class=\"dataframe\">\n",
              "  <thead>\n",
              "    <tr style=\"text-align: right;\">\n",
              "      <th></th>\n",
              "      <th>GRE Score</th>\n",
              "      <th>TOEFL Score</th>\n",
              "      <th>University Rating</th>\n",
              "      <th>SOP</th>\n",
              "      <th>LOR</th>\n",
              "      <th>CGPA</th>\n",
              "      <th>Research</th>\n",
              "      <th>Chance of Admit</th>\n",
              "    </tr>\n",
              "  </thead>\n",
              "  <tbody>\n",
              "    <tr>\n",
              "      <th>GRE Score</th>\n",
              "      <td>1.000000</td>\n",
              "      <td>0.827200</td>\n",
              "      <td>0.635376</td>\n",
              "      <td>0.613498</td>\n",
              "      <td>0.524679</td>\n",
              "      <td>0.825878</td>\n",
              "      <td>0.563398</td>\n",
              "      <td>0.810351</td>\n",
              "    </tr>\n",
              "    <tr>\n",
              "      <th>TOEFL Score</th>\n",
              "      <td>0.827200</td>\n",
              "      <td>1.000000</td>\n",
              "      <td>0.649799</td>\n",
              "      <td>0.644410</td>\n",
              "      <td>0.541563</td>\n",
              "      <td>0.810574</td>\n",
              "      <td>0.467012</td>\n",
              "      <td>0.792228</td>\n",
              "    </tr>\n",
              "    <tr>\n",
              "      <th>University Rating</th>\n",
              "      <td>0.635376</td>\n",
              "      <td>0.649799</td>\n",
              "      <td>1.000000</td>\n",
              "      <td>0.728024</td>\n",
              "      <td>0.608651</td>\n",
              "      <td>0.705254</td>\n",
              "      <td>0.427047</td>\n",
              "      <td>0.690132</td>\n",
              "    </tr>\n",
              "    <tr>\n",
              "      <th>SOP</th>\n",
              "      <td>0.613498</td>\n",
              "      <td>0.644410</td>\n",
              "      <td>0.728024</td>\n",
              "      <td>1.000000</td>\n",
              "      <td>0.663707</td>\n",
              "      <td>0.712154</td>\n",
              "      <td>0.408116</td>\n",
              "      <td>0.684137</td>\n",
              "    </tr>\n",
              "    <tr>\n",
              "      <th>LOR</th>\n",
              "      <td>0.524679</td>\n",
              "      <td>0.541563</td>\n",
              "      <td>0.608651</td>\n",
              "      <td>0.663707</td>\n",
              "      <td>1.000000</td>\n",
              "      <td>0.637469</td>\n",
              "      <td>0.372526</td>\n",
              "      <td>0.645365</td>\n",
              "    </tr>\n",
              "    <tr>\n",
              "      <th>CGPA</th>\n",
              "      <td>0.825878</td>\n",
              "      <td>0.810574</td>\n",
              "      <td>0.705254</td>\n",
              "      <td>0.712154</td>\n",
              "      <td>0.637469</td>\n",
              "      <td>1.000000</td>\n",
              "      <td>0.501311</td>\n",
              "      <td>0.882413</td>\n",
              "    </tr>\n",
              "    <tr>\n",
              "      <th>Research</th>\n",
              "      <td>0.563398</td>\n",
              "      <td>0.467012</td>\n",
              "      <td>0.427047</td>\n",
              "      <td>0.408116</td>\n",
              "      <td>0.372526</td>\n",
              "      <td>0.501311</td>\n",
              "      <td>1.000000</td>\n",
              "      <td>0.545871</td>\n",
              "    </tr>\n",
              "    <tr>\n",
              "      <th>Chance of Admit</th>\n",
              "      <td>0.810351</td>\n",
              "      <td>0.792228</td>\n",
              "      <td>0.690132</td>\n",
              "      <td>0.684137</td>\n",
              "      <td>0.645365</td>\n",
              "      <td>0.882413</td>\n",
              "      <td>0.545871</td>\n",
              "      <td>1.000000</td>\n",
              "    </tr>\n",
              "  </tbody>\n",
              "</table>\n",
              "</div>"
            ],
            "text/plain": [
              "                   GRE Score  TOEFL Score  University Rating       SOP  \\\n",
              "GRE Score           1.000000     0.827200           0.635376  0.613498   \n",
              "TOEFL Score         0.827200     1.000000           0.649799  0.644410   \n",
              "University Rating   0.635376     0.649799           1.000000  0.728024   \n",
              "SOP                 0.613498     0.644410           0.728024  1.000000   \n",
              "LOR                 0.524679     0.541563           0.608651  0.663707   \n",
              "CGPA                0.825878     0.810574           0.705254  0.712154   \n",
              "Research            0.563398     0.467012           0.427047  0.408116   \n",
              "Chance of Admit     0.810351     0.792228           0.690132  0.684137   \n",
              "\n",
              "                       LOR       CGPA  Research  Chance of Admit   \n",
              "GRE Score          0.524679  0.825878  0.563398          0.810351  \n",
              "TOEFL Score        0.541563  0.810574  0.467012          0.792228  \n",
              "University Rating  0.608651  0.705254  0.427047          0.690132  \n",
              "SOP                0.663707  0.712154  0.408116          0.684137  \n",
              "LOR                1.000000  0.637469  0.372526          0.645365  \n",
              "CGPA               0.637469  1.000000  0.501311          0.882413  \n",
              "Research           0.372526  0.501311  1.000000          0.545871  \n",
              "Chance of Admit    0.645365  0.882413  0.545871          1.000000  "
            ]
          },
          "execution_count": 9,
          "metadata": {},
          "output_type": "execute_result"
        }
      ],
      "source": [
        "df.corr()"
      ]
    },
    {
      "cell_type": "code",
      "execution_count": null,
      "metadata": {
        "id": "Vix-e_N_58J2",
        "outputId": "541b6c54-9a58-49d9-e361-29e0c9a37139"
      },
      "outputs": [
        {
          "data": {
            "text/plain": [
              "<AxesSubplot:>"
            ]
          },
          "execution_count": 10,
          "metadata": {},
          "output_type": "execute_result"
        },
        {
          "data": {
            "image/png": "[encoded data removed]",
            "text/plain": [
              "<Figure size 432x288 with 2 Axes>"
            ]
          },
          "metadata": {
            "needs_background": "light"
          },
          "output_type": "display_data"
        }
      ],
      "source": [
        "sns.heatmap(df.corr(),annot=True,cmap='YlGnBu')"
      ]
    },
    {
      "cell_type": "markdown",
      "metadata": {
        "id": "jVvJaIYe58J3"
      },
      "source": [
        "We see a high correlation amongst the following variables\n",
        "- CGPA and Chances of Admit\n",
        "- CGPA and GRE score\n",
        "- CGPA and TOEFL score\n",
        "- GRE score and TOEFL score\n",
        "- GRE score and Chances of Admit\n",
        "- TOEFL score and Chances of Admit\n",
        "\n",
        "From the correlation score, Chances of Admit have a variability with other parameters in the following order:\n",
        "(Chances of Admit depend on)\n",
        "- CGPA\n",
        "- GRE Score\n",
        "- TOEFL Score\n",
        "- University rating\n",
        "- SOP\n",
        "- LOR\n",
        "- Research\n"
      ]
    },
    {
      "cell_type": "markdown",
      "metadata": {
        "id": "blG4yWqI58J4"
      },
      "source": [
        "### Chances of Admit v/s Research"
      ]
    },
    {
      "cell_type": "code",
      "execution_count": null,
      "metadata": {
        "id": "WQCvkTnD58J4",
        "outputId": "2ea00c6f-ff11-4143-b477-4485cb2a1f2d"
      },
      "outputs": [
        {
          "data": {
            "text/plain": [
              "<AxesSubplot:xlabel='Research', ylabel='Chance of Admit '>"
            ]
          },
          "execution_count": 11,
          "metadata": {},
          "output_type": "execute_result"
        },
        {
          "data": {
            "image/png": "[encoded data removed]",
            "text/plain": [
              "<Figure size 432x288 with 1 Axes>"
            ]
          },
          "metadata": {
            "needs_background": "light"
          },
          "output_type": "display_data"
        }
      ],
      "source": [
        "sns.boxplot(data=df,x='Research',y='Chance of Admit ')"
      ]
    },
    {
      "cell_type": "markdown",
      "metadata": {
        "id": "Hh2AsbLa58J4"
      },
      "source": [
        "### Chances of Admit v/s CGPA"
      ]
    },
    {
      "cell_type": "code",
      "execution_count": null,
      "metadata": {
        "id": "XJeeocYw58J4",
        "outputId": "4c1bd3db-9982-4062-c6ed-31d8c35e94c5"
      },
      "outputs": [
        {
          "data": {
            "text/plain": [
              "<AxesSubplot:xlabel='CGPA', ylabel='Chance of Admit '>"
            ]
          },
          "execution_count": 12,
          "metadata": {},
          "output_type": "execute_result"
        },
        {
          "data": {
            "image/png": "[encoded data removed]",
            "text/plain": [
              "<Figure size 432x288 with 1 Axes>"
            ]
          },
          "metadata": {
            "needs_background": "light"
          },
          "output_type": "display_data"
        }
      ],
      "source": [
        "sns.scatterplot(data=df,x='CGPA',y='Chance of Admit ')"
      ]
    },
    {
      "cell_type": "markdown",
      "metadata": {
        "id": "dmXP896Q58J5"
      },
      "source": [
        "Chances of Admit are usually on a rise with CGPA"
      ]
    },
    {
      "cell_type": "markdown",
      "metadata": {
        "id": "PWBWlaXP58J5"
      },
      "source": [
        "### Chances of Admit v/s GRE"
      ]
    },
    {
      "cell_type": "code",
      "execution_count": null,
      "metadata": {
        "id": "NXaVtaKm58J5",
        "outputId": "56fca88f-ee9e-47af-d063-88e6bad358a9"
      },
      "outputs": [
        {
          "data": {
            "text/plain": [
              "<AxesSubplot:xlabel='GRE Score', ylabel='Chance of Admit '>"
            ]
          },
          "execution_count": 13,
          "metadata": {},
          "output_type": "execute_result"
        },
        {
          "data": {
            "image/png": "[encoded data removed]",
            "text/plain": [
              "<Figure size 432x288 with 1 Axes>"
            ]
          },
          "metadata": {
            "needs_background": "light"
          },
          "output_type": "display_data"
        }
      ],
      "source": [
        "sns.lineplot(data=df,x='GRE Score',y='Chance of Admit ')"
      ]
    },
    {
      "cell_type": "markdown",
      "metadata": {
        "id": "wCYyUZK-58J6"
      },
      "source": [
        "Chances of Admit are usually on a rise with GRE score"
      ]
    },
    {
      "cell_type": "markdown",
      "metadata": {
        "id": "mLXHEslQ58J6"
      },
      "source": [
        "### Chances of Admit v/s TOEFL"
      ]
    },
    {
      "cell_type": "code",
      "execution_count": null,
      "metadata": {
        "id": "CTxYIKLg58J6",
        "outputId": "7fad803a-8911-4c30-a284-c85a9fd26a41"
      },
      "outputs": [
        {
          "data": {
            "text/plain": [
              "<AxesSubplot:xlabel='TOEFL Score', ylabel='Chance of Admit '>"
            ]
          },
          "execution_count": 14,
          "metadata": {},
          "output_type": "execute_result"
        },
        {
          "data": {
            "image/png": "[encoded data removed]",
            "text/plain": [
              "<Figure size 432x288 with 1 Axes>"
            ]
          },
          "metadata": {
            "needs_background": "light"
          },
          "output_type": "display_data"
        }
      ],
      "source": [
        "sns.lineplot(data=df,x='TOEFL Score',y='Chance of Admit ')"
      ]
    },
    {
      "cell_type": "markdown",
      "metadata": {
        "id": "Y5igPMr_58J7"
      },
      "source": [
        "Chances of Admit are usually on a rise with TOEFL score"
      ]
    },
    {
      "cell_type": "markdown",
      "metadata": {
        "id": "crR493r458J7"
      },
      "source": [
        "# Linear Regression"
      ]
    },
    {
      "cell_type": "markdown",
      "metadata": {
        "id": "Rxf36Eix58J7"
      },
      "source": [
        "## Multicollinearity check by VIF score "
      ]
    },
    {
      "cell_type": "markdown",
      "metadata": {
        "id": "lYvjWO1U58J8"
      },
      "source": [
        "One of the assumptions for Linear regression is that the input variables are highly independent. Hence we check the VIF score to check for correlation in the input variables"
      ]
    },
    {
      "cell_type": "code",
      "execution_count": null,
      "metadata": {
        "id": "Mmmc0wcR58J8"
      },
      "outputs": [],
      "source": [
        "X = df[df.columns.drop('Chance of Admit ')]\n",
        "Y = df[\"Chance of Admit \"]"
      ]
    },
    {
      "cell_type": "code",
      "execution_count": null,
      "metadata": {
        "id": "IPpojt_p58J8"
      },
      "outputs": [],
      "source": [
        "from statsmodels.stats.outliers_influence import variance_inflation_factor\n",
        "\n",
        "def calc_vif(X):\n",
        "\n",
        "    # Calculating VIF\n",
        "    vif = pd.DataFrame()\n",
        "    vif[\"variables\"] = X.columns\n",
        "    vif[\"VIF\"] = [variance_inflation_factor(X.values, i) for i in range(X.shape[1])]\n",
        "\n",
        "    return(vif)"
      ]
    },
    {
      "cell_type": "code",
      "execution_count": null,
      "metadata": {
        "id": "bNCqMKW658J8",
        "outputId": "e29d0192-5531-4524-e440-33ac6d4e9d19"
      },
      "outputs": [
        {
          "data": {
            "text/html": [
              "<div>\n",
              "<style scoped>\n",
              "    .dataframe tbody tr th:only-of-type {\n",
              "        vertical-align: middle;\n",
              "    }\n",
              "\n",
              "    .dataframe tbody tr th {\n",
              "        vertical-align: top;\n",
              "    }\n",
              "\n",
              "    .dataframe thead th {\n",
              "        text-align: right;\n",
              "    }\n",
              "</style>\n",
              "<table border=\"1\" class=\"dataframe\">\n",
              "  <thead>\n",
              "    <tr style=\"text-align: right;\">\n",
              "      <th></th>\n",
              "      <th>variables</th>\n",
              "      <th>VIF</th>\n",
              "    </tr>\n",
              "  </thead>\n",
              "  <tbody>\n",
              "    <tr>\n",
              "      <th>0</th>\n",
              "      <td>GRE Score</td>\n",
              "      <td>1308.061089</td>\n",
              "    </tr>\n",
              "    <tr>\n",
              "      <th>1</th>\n",
              "      <td>TOEFL Score</td>\n",
              "      <td>1215.951898</td>\n",
              "    </tr>\n",
              "    <tr>\n",
              "      <th>2</th>\n",
              "      <td>University Rating</td>\n",
              "      <td>20.933361</td>\n",
              "    </tr>\n",
              "    <tr>\n",
              "      <th>3</th>\n",
              "      <td>SOP</td>\n",
              "      <td>35.265006</td>\n",
              "    </tr>\n",
              "    <tr>\n",
              "      <th>4</th>\n",
              "      <td>LOR</td>\n",
              "      <td>30.911476</td>\n",
              "    </tr>\n",
              "    <tr>\n",
              "      <th>5</th>\n",
              "      <td>CGPA</td>\n",
              "      <td>950.817985</td>\n",
              "    </tr>\n",
              "    <tr>\n",
              "      <th>6</th>\n",
              "      <td>Research</td>\n",
              "      <td>2.869493</td>\n",
              "    </tr>\n",
              "  </tbody>\n",
              "</table>\n",
              "</div>"
            ],
            "text/plain": [
              "           variables          VIF\n",
              "0          GRE Score  1308.061089\n",
              "1        TOEFL Score  1215.951898\n",
              "2  University Rating    20.933361\n",
              "3                SOP    35.265006\n",
              "4               LOR     30.911476\n",
              "5               CGPA   950.817985\n",
              "6           Research     2.869493"
            ]
          },
          "execution_count": 17,
          "metadata": {},
          "output_type": "execute_result"
        }
      ],
      "source": [
        "calc_vif(X)"
      ]
    },
    {
      "cell_type": "markdown",
      "metadata": {
        "id": "JQ0pK4jS58J9"
      },
      "source": [
        "Drop TOEFL score and CGPA and check for VIP again"
      ]
    },
    {
      "cell_type": "code",
      "execution_count": null,
      "metadata": {
        "id": "G_hKfwMV58J9"
      },
      "outputs": [],
      "source": [
        "X = X[X.columns.drop(['TOEFL Score','CGPA'])]"
      ]
    },
    {
      "cell_type": "code",
      "execution_count": null,
      "metadata": {
        "id": "1sWQQJ4v58J9",
        "outputId": "1b8635df-5e0e-4ed5-f4a0-fb18e707dd30"
      },
      "outputs": [
        {
          "data": {
            "text/html": [
              "<div>\n",
              "<style scoped>\n",
              "    .dataframe tbody tr th:only-of-type {\n",
              "        vertical-align: middle;\n",
              "    }\n",
              "\n",
              "    .dataframe tbody tr th {\n",
              "        vertical-align: top;\n",
              "    }\n",
              "\n",
              "    .dataframe thead th {\n",
              "        text-align: right;\n",
              "    }\n",
              "</style>\n",
              "<table border=\"1\" class=\"dataframe\">\n",
              "  <thead>\n",
              "    <tr style=\"text-align: right;\">\n",
              "      <th></th>\n",
              "      <th>variables</th>\n",
              "      <th>VIF</th>\n",
              "    </tr>\n",
              "  </thead>\n",
              "  <tbody>\n",
              "    <tr>\n",
              "      <th>0</th>\n",
              "      <td>GRE Score</td>\n",
              "      <td>19.853847</td>\n",
              "    </tr>\n",
              "    <tr>\n",
              "      <th>1</th>\n",
              "      <td>University Rating</td>\n",
              "      <td>19.716492</td>\n",
              "    </tr>\n",
              "    <tr>\n",
              "      <th>2</th>\n",
              "      <td>SOP</td>\n",
              "      <td>32.836036</td>\n",
              "    </tr>\n",
              "    <tr>\n",
              "      <th>3</th>\n",
              "      <td>LOR</td>\n",
              "      <td>29.417321</td>\n",
              "    </tr>\n",
              "    <tr>\n",
              "      <th>4</th>\n",
              "      <td>Research</td>\n",
              "      <td>2.849524</td>\n",
              "    </tr>\n",
              "  </tbody>\n",
              "</table>\n",
              "</div>"
            ],
            "text/plain": [
              "           variables        VIF\n",
              "0          GRE Score  19.853847\n",
              "1  University Rating  19.716492\n",
              "2                SOP  32.836036\n",
              "3               LOR   29.417321\n",
              "4           Research   2.849524"
            ]
          },
          "execution_count": 19,
          "metadata": {},
          "output_type": "execute_result"
        }
      ],
      "source": [
        "calc_vif(X)"
      ]
    },
    {
      "cell_type": "markdown",
      "metadata": {
        "id": "iiXDRpU258J-"
      },
      "source": [
        "We still a high correlation(> 5) among all input variables except the Research variable. Hence retain the research paramter as the only variable"
      ]
    },
    {
      "cell_type": "code",
      "execution_count": null,
      "metadata": {
        "id": "O5ShKWGG58J-"
      },
      "outputs": [],
      "source": [
        "X = X[X.columns.drop(['GRE Score','University Rating','SOP','LOR '])]"
      ]
    },
    {
      "cell_type": "markdown",
      "metadata": {
        "id": "GwIePkSE58J_"
      },
      "source": [
        "## Linear Regression Model - Model fitting"
      ]
    },
    {
      "cell_type": "code",
      "execution_count": null,
      "metadata": {
        "id": "C94RFOpB58J_",
        "outputId": "038aac5c-cfb0-4ab7-d7d7-bd732eccd1d1"
      },
      "outputs": [
        {
          "data": {
            "text/html": [
              "<table class=\"simpletable\">\n",
              "<caption>OLS Regression Results</caption>\n",
              "<tr>\n",
              "  <th>Dep. Variable:</th>    <td>Chance of Admit </td> <th>  R-squared:         </th> <td>   0.298</td>\n",
              "</tr>\n",
              "<tr>\n",
              "  <th>Model:</th>                   <td>OLS</td>       <th>  Adj. R-squared:    </th> <td>   0.297</td>\n",
              "</tr>\n",
              "<tr>\n",
              "  <th>Method:</th>             <td>Least Squares</td>  <th>  F-statistic:       </th> <td>   211.4</td>\n",
              "</tr>\n",
              "<tr>\n",
              "  <th>Date:</th>             <td>Sun, 17 Apr 2022</td> <th>  Prob (F-statistic):</th> <td>3.60e-40</td>\n",
              "</tr>\n",
              "<tr>\n",
              "  <th>Time:</th>                 <td>17:57:33</td>     <th>  Log-Likelihood:    </th> <td>  358.48</td>\n",
              "</tr>\n",
              "<tr>\n",
              "  <th>No. Observations:</th>      <td>   500</td>      <th>  AIC:               </th> <td>  -713.0</td>\n",
              "</tr>\n",
              "<tr>\n",
              "  <th>Df Residuals:</th>          <td>   498</td>      <th>  BIC:               </th> <td>  -704.5</td>\n",
              "</tr>\n",
              "<tr>\n",
              "  <th>Df Model:</th>              <td>     1</td>      <th>                     </th>     <td> </td>   \n",
              "</tr>\n",
              "<tr>\n",
              "  <th>Covariance Type:</th>      <td>nonrobust</td>    <th>                     </th>     <td> </td>   \n",
              "</tr>\n",
              "</table>\n",
              "<table class=\"simpletable\">\n",
              "<tr>\n",
              "      <td></td>        <th>coef</th>     <th>std err</th>      <th>t</th>      <th>P>|t|</th>  <th>[0.025</th>    <th>0.975]</th>  \n",
              "</tr>\n",
              "<tr>\n",
              "  <th>const</th>    <td>    0.6349</td> <td>    0.008</td> <td>   79.554</td> <td> 0.000</td> <td>    0.619</td> <td>    0.651</td>\n",
              "</tr>\n",
              "<tr>\n",
              "  <th>Research</th> <td>    0.1551</td> <td>    0.011</td> <td>   14.539</td> <td> 0.000</td> <td>    0.134</td> <td>    0.176</td>\n",
              "</tr>\n",
              "</table>\n",
              "<table class=\"simpletable\">\n",
              "<tr>\n",
              "  <th>Omnibus:</th>       <td>27.731</td> <th>  Durbin-Watson:     </th> <td>   0.843</td>\n",
              "</tr>\n",
              "<tr>\n",
              "  <th>Prob(Omnibus):</th> <td> 0.000</td> <th>  Jarque-Bera (JB):  </th> <td>  31.129</td>\n",
              "</tr>\n",
              "<tr>\n",
              "  <th>Skew:</th>          <td>-0.609</td> <th>  Prob(JB):          </th> <td>1.74e-07</td>\n",
              "</tr>\n",
              "<tr>\n",
              "  <th>Kurtosis:</th>      <td> 3.094</td> <th>  Cond. No.          </th> <td>    2.78</td>\n",
              "</tr>\n",
              "</table><br/><br/>Notes:<br/>[1] Standard Errors assume that the covariance matrix of the errors is correctly specified."
            ],
            "text/plain": [
              "<class 'statsmodels.iolib.summary.Summary'>\n",
              "\"\"\"\n",
              "                            OLS Regression Results                            \n",
              "==============================================================================\n",
              "Dep. Variable:       Chance of Admit    R-squared:                       0.298\n",
              "Model:                            OLS   Adj. R-squared:                  0.297\n",
              "Method:                 Least Squares   F-statistic:                     211.4\n",
              "Date:                Sun, 17 Apr 2022   Prob (F-statistic):           3.60e-40\n",
              "Time:                        17:57:33   Log-Likelihood:                 358.48\n",
              "No. Observations:                 500   AIC:                            -713.0\n",
              "Df Residuals:                     498   BIC:                            -704.5\n",
              "Df Model:                           1                                         \n",
              "Covariance Type:            nonrobust                                         \n",
              "==============================================================================\n",
              "                 coef    std err          t      P>|t|      [0.025      0.975]\n",
              "------------------------------------------------------------------------------\n",
              "const          0.6349      0.008     79.554      0.000       0.619       0.651\n",
              "Research       0.1551      0.011     14.539      0.000       0.134       0.176\n",
              "==============================================================================\n",
              "Omnibus:                       27.731   Durbin-Watson:                   0.843\n",
              "Prob(Omnibus):                  0.000   Jarque-Bera (JB):               31.129\n",
              "Skew:                          -0.609   Prob(JB):                     1.74e-07\n",
              "Kurtosis:                       3.094   Cond. No.                         2.78\n",
              "==============================================================================\n",
              "\n",
              "Notes:\n",
              "[1] Standard Errors assume that the covariance matrix of the errors is correctly specified.\n",
              "\"\"\""
            ]
          },
          "execution_count": 21,
          "metadata": {},
          "output_type": "execute_result"
        }
      ],
      "source": [
        "import statsmodels.api as sm\n",
        "\n",
        "X_constant = sm.add_constant(X)\n",
        "lin_reg = sm.OLS(Y,X_constant).fit()\n",
        "lin_reg.summary()"
      ]
    },
    {
      "cell_type": "markdown",
      "metadata": {
        "id": "KatpxiM658J_"
      },
      "source": [
        "### Check if residual of means is Zero"
      ]
    },
    {
      "cell_type": "code",
      "execution_count": null,
      "metadata": {
        "id": "TRFRxoc458KA",
        "outputId": "1579ac56-76e8-436c-da91-51f024b42219"
      },
      "outputs": [
        {
          "data": {
            "text/plain": [
              "-8.242295734817163e-16"
            ]
          },
          "execution_count": 22,
          "metadata": {},
          "output_type": "execute_result"
        }
      ],
      "source": [
        "lin_reg.resid.mean()"
      ]
    },
    {
      "cell_type": "markdown",
      "metadata": {
        "id": "QYuV8zjC58KA"
      },
      "source": [
        "Mean of residuals is very small. Approximately 0 - Condition passed"
      ]
    },
    {
      "cell_type": "markdown",
      "metadata": {
        "id": "8k8_TyNk58KA"
      },
      "source": [
        "### Linearity of variables (no pattern in residual plot)"
      ]
    },
    {
      "cell_type": "markdown",
      "metadata": {
        "id": "ryYS0JVV58KA"
      },
      "source": [
        "PS: !IMPORTANT NOTE! \n",
        "CREDITS for linearity_test() function used below. \n",
        "\n",
        "Referred to https://towardsdatascience.com/verifying-the-assumptions-of-linear-regression-in-python-and-r-f4cd2907d4c0\n",
        "\n",
        "Had questions on content covered in class, and a re-class has been agreed upon.However, we got the assignment before the re-class.\n",
        "Hence the external references!"
      ]
    },
    {
      "cell_type": "code",
      "execution_count": null,
      "metadata": {
        "id": "yownEBjo58KB",
        "outputId": "41713e15-cad7-4050-a475-f53ed64a1453"
      },
      "outputs": [
        {
          "data": {
            "image/png": "[encoded data removed]",
            "text/plain": [
              "<Figure size 432x288 with 2 Axes>"
            ]
          },
          "metadata": {
            "needs_background": "light"
          },
          "output_type": "display_data"
        }
      ],
      "source": [
        "def linearity_test(model, y):\n",
        "    '''\n",
        "    Function for visually inspecting the assumption of linearity in a linear regression model.\n",
        "    It plots observed vs. predicted values and residuals vs. predicted values.\n",
        "    \n",
        "    Args:\n",
        "    * model - fitted OLS model from statsmodels\n",
        "    * y - observed values\n",
        "    '''\n",
        "    fitted_vals = model.predict()\n",
        "    resids = model.resid\n",
        "\n",
        "    fig, ax = plt.subplots(2,1)\n",
        "    \n",
        "    sns.regplot(x=fitted_vals, y=y, lowess=True, ax=ax[0], line_kws={'color': 'red'})\n",
        "    ax[0].set_title('Observed vs. Predicted Values', fontsize=16)\n",
        "    ax[0].set(xlabel='Predicted', ylabel='Observed')\n",
        "\n",
        "    sns.regplot(x=fitted_vals, y=resids, lowess=True, ax=ax[1], line_kws={'color': 'red'})\n",
        "    ax[1].set_title('Residuals vs. Predicted Values', fontsize=16)\n",
        "    ax[1].set(xlabel='Predicted', ylabel='Residuals')\n",
        "    \n",
        "linearity_test(lin_reg, Y)  "
      ]
    },
    {
      "cell_type": "markdown",
      "metadata": {
        "id": "wZNObY5358KB"
      },
      "source": [
        "#### Use line plot to check linearity in data as well"
      ]
    },
    {
      "cell_type": "code",
      "execution_count": null,
      "metadata": {
        "id": "1g4Ccckw58KC",
        "outputId": "34d8cddb-b71a-4c60-80c3-122d0ab50ade"
      },
      "outputs": [
        {
          "data": {
            "text/plain": [
              "<AxesSubplot:xlabel='Research', ylabel='Chance of Admit '>"
            ]
          },
          "execution_count": 24,
          "metadata": {},
          "output_type": "execute_result"
        },
        {
          "data": {
            "image/png": "[encoded data removed]",
            "text/plain": [
              "<Figure size 432x288 with 1 Axes>"
            ]
          },
          "metadata": {
            "needs_background": "light"
          },
          "output_type": "display_data"
        }
      ],
      "source": [
        "sns.lineplot(data=df,x='Research',y='Chance of Admit ')"
      ]
    },
    {
      "cell_type": "markdown",
      "metadata": {
        "id": "EU_8JQJL58KC"
      },
      "source": [
        "We see a linear relationship between the research data and chances of admit - Linearity relationship is satisfied"
      ]
    },
    {
      "cell_type": "markdown",
      "metadata": {
        "id": "WeoByATk58KC"
      },
      "source": [
        "### Test for Homoscedasticity"
      ]
    },
    {
      "cell_type": "markdown",
      "metadata": {
        "id": "N_BlOEWy58KD"
      },
      "source": [
        "The null hypothesis (H0): Homoscedasticity is present.\n",
        "\n",
        "The alternative hypothesis: (Ha): Homoscedasticity is not present (i.e. heteroscedasticity exists)"
      ]
    },
    {
      "cell_type": "code",
      "execution_count": null,
      "metadata": {
        "id": "GD_dKvqp58KF",
        "outputId": "af9313fd-9205-4148-f99e-39068679adc8"
      },
      "outputs": [
        {
          "data": {
            "text/plain": [
              "(2.1327400035535127,\n",
              " 0.14418282066263327,\n",
              " 2.133308628844618,\n",
              " 0.1447599487446958)"
            ]
          },
          "execution_count": 25,
          "metadata": {},
          "output_type": "execute_result"
        }
      ],
      "source": [
        "#perform Bresuch-Pagan test\n",
        "import statsmodels.stats.diagnostic as smd\n",
        "\n",
        "test = smd.het_breuschpagan(lin_reg.resid, lin_reg.model.exog)\n",
        "test"
      ]
    },
    {
      "cell_type": "markdown",
      "metadata": {
        "id": "6tmZI6ue58KF"
      },
      "source": [
        "p-value of f-statistic is 0.144 - indicating we cannot reject the null Hypothesis. This implies Homosedacity exists"
      ]
    },
    {
      "cell_type": "markdown",
      "metadata": {
        "id": "vKpqQmJO58KF"
      },
      "source": [
        "### Normality of residuals"
      ]
    },
    {
      "cell_type": "code",
      "execution_count": null,
      "metadata": {
        "id": "u1dBeyLL58KG"
      },
      "outputs": [],
      "source": [
        "from scipy.stats import shapiro\n",
        "#null - series is normal\n",
        "#alter- not normal\n",
        "w, p_value=shapiro(lin_reg.resid )"
      ]
    },
    {
      "cell_type": "code",
      "execution_count": null,
      "metadata": {
        "id": "-vp2wPR858KG",
        "outputId": "ac6afcd9-b9da-4c44-ed39-c40d75df7fff"
      },
      "outputs": [
        {
          "data": {
            "text/plain": [
              "2.759689188280845e-08"
            ]
          },
          "execution_count": 27,
          "metadata": {},
          "output_type": "execute_result"
        }
      ],
      "source": [
        "p_value"
      ]
    },
    {
      "cell_type": "markdown",
      "metadata": {
        "id": "iAsvfbMd58KG"
      },
      "source": [
        "p_value is very small, indicating that we cannot accept the null hypotheis. The reidual series is not normal"
      ]
    },
    {
      "cell_type": "code",
      "execution_count": null,
      "metadata": {
        "id": "hZO1Sjrx58KG",
        "outputId": "892e1814-6e4a-483d-b6b6-3330fb7d1cf2"
      },
      "outputs": [
        {
          "name": "stderr",
          "output_type": "stream",
          "text": [
            "C:\\Users\\SToleti\\AppData\\Roaming\\Python\\Python37\\site-packages\\pandas\\core\\arraylike.py:364: RuntimeWarning: invalid value encountered in log\n",
            "  result = getattr(ufunc, method)(*inputs, **kwargs)\n"
          ]
        },
        {
          "data": {
            "text/plain": [
              "1.0"
            ]
          },
          "execution_count": 28,
          "metadata": {},
          "output_type": "execute_result"
        }
      ],
      "source": [
        "# Take log-normal\n",
        "w, p_value_log = shapiro(np.log(lin_reg.resid ))\n",
        "p_value_log"
      ]
    },
    {
      "cell_type": "markdown",
      "metadata": {
        "id": "Zofb_WX758KH"
      },
      "source": [
        "After applying log transformation, we conclude that the input series is normal"
      ]
    },
    {
      "cell_type": "markdown",
      "metadata": {
        "id": "gEPWyX-e58KH"
      },
      "source": [
        "### Model Evaluation"
      ]
    },
    {
      "cell_type": "code",
      "execution_count": null,
      "metadata": {
        "id": "7eRgZWHQ58KH",
        "outputId": "8da55ea0-00e6-4efb-dd71-08793bca5604"
      },
      "outputs": [
        {
          "name": "stdout",
          "output_type": "stream",
          "text": [
            "Traning set shape X: (450, 1)\n",
            "Traning set shape Y: (450,)\n",
            "Test set shape X: (50, 1)\n",
            "Test set shape Y: (50,)\n"
          ]
        }
      ],
      "source": [
        "from sklearn.model_selection import train_test_split\n",
        "\n",
        "x_train,x_test,y_train, y_test = train_test_split(X,Y, test_size=0.1,random_state = 1)\n",
        "\n",
        "print(\"Traning set shape X:\", x_train.shape)\n",
        "print(\"Traning set shape Y:\", y_train.shape)\n",
        "print(\"Test set shape X:\", x_test.shape)\n",
        "print(\"Test set shape Y:\", y_test.shape)\n",
        "\n"
      ]
    },
    {
      "cell_type": "code",
      "execution_count": null,
      "metadata": {
        "id": "q7QzBaM858KH",
        "outputId": "bc2379ef-8488-404a-d2cb-d405450c4ff0"
      },
      "outputs": [
        {
          "data": {
            "text/plain": [
              "0.30360827040497884"
            ]
          },
          "execution_count": 30,
          "metadata": {},
          "output_type": "execute_result"
        }
      ],
      "source": [
        "from sklearn.linear_model import LinearRegression\n",
        "\n",
        "final_model = LinearRegression()\n",
        "final_model.fit(x_train,y_train)\n",
        "\n",
        "final_model.score(x_train,y_train)"
      ]
    },
    {
      "cell_type": "code",
      "execution_count": null,
      "metadata": {
        "id": "OT-eccc958KI",
        "outputId": "83e3b985-5ec8-4b15-821e-9e7224e10ff8"
      },
      "outputs": [
        {
          "name": "stdout",
          "output_type": "stream",
          "text": [
            "Mean absolute error: 0.08654759454643741\n",
            "Mean squared error: 0.012744041729971334\n",
            "Root Mean squared error: 0.11288951116012211\n",
            "Mean absolute percentage error: 0.13207940406443647\n"
          ]
        }
      ],
      "source": [
        "from sklearn.metrics import mean_absolute_error, mean_squared_error,mean_absolute_percentage_error\n",
        "y_pred = final_model.predict(x_test)\n",
        "print(\"Mean absolute error:\", mean_absolute_error(y_test, y_pred) )\n",
        "print(\"Mean squared error:\",mean_squared_error(y_test, y_pred) )\n",
        "print(\"Root Mean squared error:\",np.sqrt(mean_squared_error(y_test, y_pred)) )\n",
        "print(\"Mean absolute percentage error:\", mean_absolute_percentage_error(y_test,y_pred))\n"
      ]
    },
    {
      "cell_type": "markdown",
      "metadata": {
        "id": "mP_tXkNK58KI"
      },
      "source": [
        "## Business Insights"
      ]
    },
    {
      "cell_type": "markdown",
      "metadata": {
        "id": "CJKCLRe458KI"
      },
      "source": [
        "With an error rate of 13% we can predict if a student can be accepted into college based on his research background"
      ]
    },
    {
      "cell_type": "markdown",
      "metadata": {
        "id": "Ka-YGwUd58KI"
      },
      "source": [
        "## Recommendations"
      ]
    },
    {
      "cell_type": "markdown",
      "metadata": {
        "id": "gvVA4Y3V58KJ"
      },
      "source": [
        "Recommend the candidates with research background for admission into college. In case the research criteria is not met, then look for the GRE score. GRE score > 317"
      ]
    },
    {
      "cell_type": "code",
      "execution_count": null,
      "metadata": {
        "id": "Kxy1Y9ul58KJ"
      },
      "outputs": [],
      "source": [
        ""
      ]
    }
  ],
  "metadata": {
    "kernelspec": {
      "display_name": "Python 3",
      "language": "python",
      "name": "python3"
    },
    "language_info": {
      "codemirror_mode": {
        "name": "ipython",
        "version": 3
      },
      "file_extension": ".py",
      "mimetype": "text/x-python",
      "name": "python",
      "nbconvert_exporter": "python",
      "pygments_lexer": "ipython3",
      "version": "3.7.3"
    },
    "colab": {
      "name": "Jamboree_CaseStudy.ipynb",
      "provenance": []
    }
  },
  "nbformat": 4,
  "nbformat_minor": 0
}