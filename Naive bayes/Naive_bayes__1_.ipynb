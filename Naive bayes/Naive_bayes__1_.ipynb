{
 "cells": [
  {
   "cell_type": "code",
   "execution_count": 13,
   "id": "36bc27a3",
   "metadata": {},
   "outputs": [],
   "source": [
    "import numpy as np\n",
    "import pandas as pd\n",
    "import matplotlib.pyplot as plt\n",
    "import seaborn as sns"
   ]
  },
  {
   "cell_type": "code",
   "execution_count": 2,
   "id": "d1080b81",
   "metadata": {},
   "outputs": [
    {
     "data": {
      "text/plain": [
       "(5572, 2)"
      ]
     },
     "execution_count": 2,
     "metadata": {},
     "output_type": "execute_result"
    }
   ],
   "source": [
    "df = pd.read_csv('spam_ham.csv')\n",
    "df.shape"
   ]
  },
  {
   "cell_type": "code",
   "execution_count": 3,
   "id": "ba60e86e",
   "metadata": {},
   "outputs": [
    {
     "data": {
      "text/html": [
       "<div>\n",
       "<style scoped>\n",
       "    .dataframe tbody tr th:only-of-type {\n",
       "        vertical-align: middle;\n",
       "    }\n",
       "\n",
       "    .dataframe tbody tr th {\n",
       "        vertical-align: top;\n",
       "    }\n",
       "\n",
       "    .dataframe thead th {\n",
       "        text-align: right;\n",
       "    }\n",
       "</style>\n",
       "<table border=\"1\" class=\"dataframe\">\n",
       "  <thead>\n",
       "    <tr style=\"text-align: right;\">\n",
       "      <th></th>\n",
       "      <th>type</th>\n",
       "      <th>message</th>\n",
       "    </tr>\n",
       "  </thead>\n",
       "  <tbody>\n",
       "    <tr>\n",
       "      <th>0</th>\n",
       "      <td>ham</td>\n",
       "      <td>Go until jurong point, crazy.. Available only ...</td>\n",
       "    </tr>\n",
       "    <tr>\n",
       "      <th>1</th>\n",
       "      <td>ham</td>\n",
       "      <td>Ok lar... Joking wif u oni...</td>\n",
       "    </tr>\n",
       "    <tr>\n",
       "      <th>2</th>\n",
       "      <td>spam</td>\n",
       "      <td>Free entry in 2 a wkly comp to win FA Cup fina...</td>\n",
       "    </tr>\n",
       "    <tr>\n",
       "      <th>3</th>\n",
       "      <td>ham</td>\n",
       "      <td>U dun say so early hor... U c already then say...</td>\n",
       "    </tr>\n",
       "    <tr>\n",
       "      <th>4</th>\n",
       "      <td>ham</td>\n",
       "      <td>Nah I don't think he goes to usf, he lives aro...</td>\n",
       "    </tr>\n",
       "  </tbody>\n",
       "</table>\n",
       "</div>"
      ],
      "text/plain": [
       "   type                                            message\n",
       "0   ham  Go until jurong point, crazy.. Available only ...\n",
       "1   ham                      Ok lar... Joking wif u oni...\n",
       "2  spam  Free entry in 2 a wkly comp to win FA Cup fina...\n",
       "3   ham  U dun say so early hor... U c already then say...\n",
       "4   ham  Nah I don't think he goes to usf, he lives aro..."
      ]
     },
     "execution_count": 3,
     "metadata": {},
     "output_type": "execute_result"
    }
   ],
   "source": [
    "df.head()"
   ]
  },
  {
   "cell_type": "code",
   "execution_count": 10,
   "id": "cfa8b275",
   "metadata": {},
   "outputs": [
    {
     "data": {
      "text/plain": [
       "111"
      ]
     },
     "execution_count": 10,
     "metadata": {},
     "output_type": "execute_result"
    }
   ],
   "source": [
    "len(df['message'][0])"
   ]
  },
  {
   "cell_type": "code",
   "execution_count": 11,
   "id": "7baec26c",
   "metadata": {},
   "outputs": [
    {
     "data": {
      "text/plain": [
       "29"
      ]
     },
     "execution_count": 11,
     "metadata": {},
     "output_type": "execute_result"
    }
   ],
   "source": [
    "len(df['message'][1])"
   ]
  },
  {
   "cell_type": "code",
   "execution_count": 12,
   "id": "b00605f1",
   "metadata": {},
   "outputs": [
    {
     "data": {
      "text/plain": [
       "155"
      ]
     },
     "execution_count": 12,
     "metadata": {},
     "output_type": "execute_result"
    }
   ],
   "source": [
    "len(df['message'][2])"
   ]
  },
  {
   "cell_type": "code",
   "execution_count": 14,
   "id": "16fb781c",
   "metadata": {},
   "outputs": [
    {
     "data": {
      "text/plain": [
       "<AxesSubplot:xlabel='type', ylabel='count'>"
      ]
     },
     "execution_count": 14,
     "metadata": {},
     "output_type": "execute_result"
    },
    {
     "data": {
      "image/png": "[encoded data removed]",
      "text/plain": [
       "<Figure size 432x288 with 1 Axes>"
      ]
     },
     "metadata": {
      "needs_background": "light"
     },
     "output_type": "display_data"
    }
   ],
   "source": [
    "sns.countplot(data=df, x='type')"
   ]
  },
  {
   "cell_type": "markdown",
   "id": "d101f5e5",
   "metadata": {},
   "source": [
    "## Preprocessing"
   ]
  },
  {
   "cell_type": "code",
   "execution_count": 15,
   "id": "33c54091",
   "metadata": {},
   "outputs": [],
   "source": [
    "# pip install nltk"
   ]
  },
  {
   "cell_type": "code",
   "execution_count": 34,
   "id": "e518e822",
   "metadata": {},
   "outputs": [],
   "source": [
    "import nltk, re\n",
    "from nltk.tokenize import word_tokenize, sent_tokenize\n",
    "from nltk.corpus import stopwords"
   ]
  },
  {
   "cell_type": "code",
   "execution_count": 40,
   "id": "23e33ad9",
   "metadata": {},
   "outputs": [
    {
     "data": {
      "text/plain": [
       "['i',\n",
       " 'an',\n",
       " 'nigerian',\n",
       " 'prince',\n",
       " 'of',\n",
       " 'need',\n",
       " 'help',\n",
       " 'send',\n",
       " 'the',\n",
       " 'money',\n",
       " 'hello']"
      ]
     },
     "execution_count": 40,
     "metadata": {},
     "output_type": "execute_result"
    }
   ],
   "source": [
    "email = 'I, an Nigerian Prince of need help. Send the money. !!!! hello'\n",
    "email = email.lower()\n",
    "email = re.sub(\"[^a-z0-9 ]+\", \"\", email)\n",
    "email = word_tokenize(email)\n",
    "email"
   ]
  },
  {
   "cell_type": "code",
   "execution_count": 32,
   "id": "cda54eab",
   "metadata": {},
   "outputs": [
    {
     "data": {
      "text/plain": [
       "'i an nigerian prince of need help send the money  hello'"
      ]
     },
     "execution_count": 32,
     "metadata": {},
     "output_type": "execute_result"
    }
   ],
   "source": [
    "re.sub(\"[^a-z0-9 ]+\", \"\", email)"
   ]
  },
  {
   "cell_type": "code",
   "execution_count": 39,
   "id": "e9d0ec30",
   "metadata": {},
   "outputs": [
    {
     "data": {
      "text/plain": [
       "179"
      ]
     },
     "execution_count": 39,
     "metadata": {},
     "output_type": "execute_result"
    }
   ],
   "source": [
    "sw = stopwords.words('english')\n",
    "len(sw)"
   ]
  },
  {
   "cell_type": "code",
   "execution_count": 42,
   "id": "49ea06fa",
   "metadata": {},
   "outputs": [
    {
     "data": {
      "text/plain": [
       "['nigerian', 'prince', 'need', 'help', 'send', 'money', 'hello']"
      ]
     },
     "execution_count": 42,
     "metadata": {},
     "output_type": "execute_result"
    }
   ],
   "source": [
    "email = [word for word in email if word not in sw]\n",
    "email"
   ]
  },
  {
   "cell_type": "code",
   "execution_count": 43,
   "id": "4089c0f4",
   "metadata": {},
   "outputs": [
    {
     "data": {
      "text/plain": [
       "'nigerian prince need help send money hello'"
      ]
     },
     "execution_count": 43,
     "metadata": {},
     "output_type": "execute_result"
    }
   ],
   "source": [
    "\" \".join(email)"
   ]
  },
  {
   "cell_type": "code",
   "execution_count": 44,
   "id": "1cde9396",
   "metadata": {},
   "outputs": [],
   "source": [
    "sw = stopwords.words('english')\n",
    "\n",
    "def clean_text(email):\n",
    "    email = email.lower()\n",
    "    email = re.sub(\"[^a-z0-9 ]+\", \"\", email)\n",
    "    email = word_tokenize(email)\n",
    "    email = [word for word in email if word not in sw]\n",
    "    return \" \".join(email)\n",
    "    "
   ]
  },
  {
   "cell_type": "code",
   "execution_count": 45,
   "id": "28b3796e",
   "metadata": {},
   "outputs": [
    {
     "data": {
      "text/plain": [
       "'hello name john'"
      ]
     },
     "execution_count": 45,
     "metadata": {},
     "output_type": "execute_result"
    }
   ],
   "source": [
    "clean_text('Hello, My name is john.')"
   ]
  },
  {
   "cell_type": "code",
   "execution_count": 53,
   "id": "c5f291fa",
   "metadata": {},
   "outputs": [
    {
     "data": {
      "text/plain": [
       "\"Nah I don't think he goes to usf, he lives around here though\""
      ]
     },
     "execution_count": 53,
     "metadata": {},
     "output_type": "execute_result"
    }
   ],
   "source": [
    "df['message'][4]"
   ]
  },
  {
   "cell_type": "code",
   "execution_count": 54,
   "id": "c974169c",
   "metadata": {},
   "outputs": [
    {
     "data": {
      "text/plain": [
       "'nah dont think goes usf lives around though'"
      ]
     },
     "execution_count": 54,
     "metadata": {},
     "output_type": "execute_result"
    }
   ],
   "source": [
    "clean_text(df['message'][4])"
   ]
  },
  {
   "cell_type": "code",
   "execution_count": 58,
   "id": "327644f3",
   "metadata": {},
   "outputs": [],
   "source": [
    "df['clean_text'] = df['message'].apply(clean_text)"
   ]
  },
  {
   "cell_type": "code",
   "execution_count": 59,
   "id": "0973a6cd",
   "metadata": {},
   "outputs": [
    {
     "data": {
      "text/html": [
       "<div>\n",
       "<style scoped>\n",
       "    .dataframe tbody tr th:only-of-type {\n",
       "        vertical-align: middle;\n",
       "    }\n",
       "\n",
       "    .dataframe tbody tr th {\n",
       "        vertical-align: top;\n",
       "    }\n",
       "\n",
       "    .dataframe thead th {\n",
       "        text-align: right;\n",
       "    }\n",
       "</style>\n",
       "<table border=\"1\" class=\"dataframe\">\n",
       "  <thead>\n",
       "    <tr style=\"text-align: right;\">\n",
       "      <th></th>\n",
       "      <th>type</th>\n",
       "      <th>message</th>\n",
       "      <th>clean_text</th>\n",
       "    </tr>\n",
       "  </thead>\n",
       "  <tbody>\n",
       "    <tr>\n",
       "      <th>0</th>\n",
       "      <td>ham</td>\n",
       "      <td>Go until jurong point, crazy.. Available only ...</td>\n",
       "      <td>go jurong point crazy available bugis n great ...</td>\n",
       "    </tr>\n",
       "    <tr>\n",
       "      <th>1</th>\n",
       "      <td>ham</td>\n",
       "      <td>Ok lar... Joking wif u oni...</td>\n",
       "      <td>ok lar joking wif u oni</td>\n",
       "    </tr>\n",
       "    <tr>\n",
       "      <th>2</th>\n",
       "      <td>spam</td>\n",
       "      <td>Free entry in 2 a wkly comp to win FA Cup fina...</td>\n",
       "      <td>free entry 2 wkly comp win fa cup final tkts 2...</td>\n",
       "    </tr>\n",
       "    <tr>\n",
       "      <th>3</th>\n",
       "      <td>ham</td>\n",
       "      <td>U dun say so early hor... U c already then say...</td>\n",
       "      <td>u dun say early hor u c already say</td>\n",
       "    </tr>\n",
       "    <tr>\n",
       "      <th>4</th>\n",
       "      <td>ham</td>\n",
       "      <td>Nah I don't think he goes to usf, he lives aro...</td>\n",
       "      <td>nah dont think goes usf lives around though</td>\n",
       "    </tr>\n",
       "  </tbody>\n",
       "</table>\n",
       "</div>"
      ],
      "text/plain": [
       "   type                                            message  \\\n",
       "0   ham  Go until jurong point, crazy.. Available only ...   \n",
       "1   ham                      Ok lar... Joking wif u oni...   \n",
       "2  spam  Free entry in 2 a wkly comp to win FA Cup fina...   \n",
       "3   ham  U dun say so early hor... U c already then say...   \n",
       "4   ham  Nah I don't think he goes to usf, he lives aro...   \n",
       "\n",
       "                                          clean_text  \n",
       "0  go jurong point crazy available bugis n great ...  \n",
       "1                            ok lar joking wif u oni  \n",
       "2  free entry 2 wkly comp win fa cup final tkts 2...  \n",
       "3                u dun say early hor u c already say  \n",
       "4        nah dont think goes usf lives around though  "
      ]
     },
     "execution_count": 59,
     "metadata": {},
     "output_type": "execute_result"
    }
   ],
   "source": [
    "df.head()"
   ]
  },
  {
   "cell_type": "code",
   "execution_count": null,
   "id": "0465e548",
   "metadata": {},
   "outputs": [],
   "source": []
  },
  {
   "cell_type": "code",
   "execution_count": 60,
   "id": "ba0c7e06",
   "metadata": {},
   "outputs": [],
   "source": [
    "from collections import Counter"
   ]
  },
  {
   "cell_type": "code",
   "execution_count": 73,
   "id": "eeac1fb1",
   "metadata": {},
   "outputs": [],
   "source": [
    "ham = df[df['type'] == 'ham']['clean_text']\n",
    "spam = df[df['type'] == 'spam']['clean_text']"
   ]
  },
  {
   "cell_type": "code",
   "execution_count": 74,
   "id": "60616a8d",
   "metadata": {},
   "outputs": [],
   "source": [
    "ham = \" \".join(ham)"
   ]
  },
  {
   "cell_type": "code",
   "execution_count": 76,
   "id": "5d7cb60f",
   "metadata": {},
   "outputs": [],
   "source": [
    "ham = word_tokenize(ham)"
   ]
  },
  {
   "cell_type": "code",
   "execution_count": 79,
   "id": "4f8fe674",
   "metadata": {},
   "outputs": [
    {
     "data": {
      "text/plain": [
       "[('u', 971),\n",
       " ('im', 458),\n",
       " ('2', 305),\n",
       " ('get', 303),\n",
       " ('ltgt', 276),\n",
       " ('ok', 272),\n",
       " ('dont', 268),\n",
       " ('go', 247),\n",
       " ('got', 243),\n",
       " ('ur', 240),\n",
       " ('ill', 240),\n",
       " ('know', 232),\n",
       " ('like', 229),\n",
       " ('call', 229),\n",
       " ('come', 224),\n",
       " ('good', 222),\n",
       " ('time', 189),\n",
       " ('day', 187),\n",
       " ('love', 185),\n",
       " ('4', 168)]"
      ]
     },
     "execution_count": 79,
     "metadata": {},
     "output_type": "execute_result"
    }
   ],
   "source": [
    "ham_count =  Counter(ham)\n",
    "ham_count.most_common(20)"
   ]
  },
  {
   "cell_type": "code",
   "execution_count": 80,
   "id": "45a64336",
   "metadata": {},
   "outputs": [],
   "source": [
    "spam = \" \".join(spam)"
   ]
  },
  {
   "cell_type": "code",
   "execution_count": 81,
   "id": "0f0fc260",
   "metadata": {},
   "outputs": [],
   "source": [
    "spam = word_tokenize(spam)"
   ]
  },
  {
   "cell_type": "code",
   "execution_count": 82,
   "id": "df56d038",
   "metadata": {},
   "outputs": [
    {
     "data": {
      "text/plain": [
       "[('call', 347),\n",
       " ('free', 216),\n",
       " ('2', 173),\n",
       " ('txt', 150),\n",
       " ('u', 147),\n",
       " ('ur', 144),\n",
       " ('mobile', 123),\n",
       " ('text', 120),\n",
       " ('4', 119),\n",
       " ('claim', 113),\n",
       " ('stop', 113),\n",
       " ('reply', 101),\n",
       " ('prize', 92),\n",
       " ('get', 83),\n",
       " ('new', 69),\n",
       " ('send', 67),\n",
       " ('nokia', 65),\n",
       " ('urgent', 63),\n",
       " ('cash', 62),\n",
       " ('win', 60)]"
      ]
     },
     "execution_count": 82,
     "metadata": {},
     "output_type": "execute_result"
    }
   ],
   "source": [
    "spam_count =  Counter(spam)\n",
    "spam_count.most_common(20)"
   ]
  },
  {
   "cell_type": "code",
   "execution_count": 85,
   "id": "cc40f3ce",
   "metadata": {},
   "outputs": [],
   "source": [
    "df['type'] = df['type'].astype('category').cat.codes"
   ]
  },
  {
   "cell_type": "code",
   "execution_count": 87,
   "id": "194e9b09",
   "metadata": {},
   "outputs": [
    {
     "data": {
      "text/html": [
       "<div>\n",
       "<style scoped>\n",
       "    .dataframe tbody tr th:only-of-type {\n",
       "        vertical-align: middle;\n",
       "    }\n",
       "\n",
       "    .dataframe tbody tr th {\n",
       "        vertical-align: top;\n",
       "    }\n",
       "\n",
       "    .dataframe thead th {\n",
       "        text-align: right;\n",
       "    }\n",
       "</style>\n",
       "<table border=\"1\" class=\"dataframe\">\n",
       "  <thead>\n",
       "    <tr style=\"text-align: right;\">\n",
       "      <th></th>\n",
       "      <th>type</th>\n",
       "      <th>message</th>\n",
       "      <th>clean_text</th>\n",
       "    </tr>\n",
       "  </thead>\n",
       "  <tbody>\n",
       "    <tr>\n",
       "      <th>0</th>\n",
       "      <td>0</td>\n",
       "      <td>Go until jurong point, crazy.. Available only ...</td>\n",
       "      <td>go jurong point crazy available bugis n great ...</td>\n",
       "    </tr>\n",
       "    <tr>\n",
       "      <th>1</th>\n",
       "      <td>0</td>\n",
       "      <td>Ok lar... Joking wif u oni...</td>\n",
       "      <td>ok lar joking wif u oni</td>\n",
       "    </tr>\n",
       "    <tr>\n",
       "      <th>2</th>\n",
       "      <td>1</td>\n",
       "      <td>Free entry in 2 a wkly comp to win FA Cup fina...</td>\n",
       "      <td>free entry 2 wkly comp win fa cup final tkts 2...</td>\n",
       "    </tr>\n",
       "    <tr>\n",
       "      <th>3</th>\n",
       "      <td>0</td>\n",
       "      <td>U dun say so early hor... U c already then say...</td>\n",
       "      <td>u dun say early hor u c already say</td>\n",
       "    </tr>\n",
       "    <tr>\n",
       "      <th>4</th>\n",
       "      <td>0</td>\n",
       "      <td>Nah I don't think he goes to usf, he lives aro...</td>\n",
       "      <td>nah dont think goes usf lives around though</td>\n",
       "    </tr>\n",
       "  </tbody>\n",
       "</table>\n",
       "</div>"
      ],
      "text/plain": [
       "   type                                            message  \\\n",
       "0     0  Go until jurong point, crazy.. Available only ...   \n",
       "1     0                      Ok lar... Joking wif u oni...   \n",
       "2     1  Free entry in 2 a wkly comp to win FA Cup fina...   \n",
       "3     0  U dun say so early hor... U c already then say...   \n",
       "4     0  Nah I don't think he goes to usf, he lives aro...   \n",
       "\n",
       "                                          clean_text  \n",
       "0  go jurong point crazy available bugis n great ...  \n",
       "1                            ok lar joking wif u oni  \n",
       "2  free entry 2 wkly comp win fa cup final tkts 2...  \n",
       "3                u dun say early hor u c already say  \n",
       "4        nah dont think goes usf lives around though  "
      ]
     },
     "execution_count": 87,
     "metadata": {},
     "output_type": "execute_result"
    }
   ],
   "source": [
    "df.head()"
   ]
  },
  {
   "cell_type": "code",
   "execution_count": 92,
   "id": "7e844189",
   "metadata": {},
   "outputs": [],
   "source": [
    "X = df['clean_text'].values\n",
    "y = df['type'].values"
   ]
  },
  {
   "cell_type": "code",
   "execution_count": 88,
   "id": "7d0e17be",
   "metadata": {},
   "outputs": [],
   "source": [
    "from sklearn.model_selection import train_test_split"
   ]
  },
  {
   "cell_type": "code",
   "execution_count": 93,
   "id": "e42e365f",
   "metadata": {},
   "outputs": [],
   "source": [
    "X_train, X_test, y_train, y_test = train_test_split(X, y, test_size=0.33, random_state=42)"
   ]
  },
  {
   "cell_type": "code",
   "execution_count": 97,
   "id": "dc48b47d",
   "metadata": {},
   "outputs": [
    {
     "data": {
      "text/plain": [
       "((3733,), (3733,))"
      ]
     },
     "execution_count": 97,
     "metadata": {},
     "output_type": "execute_result"
    }
   ],
   "source": [
    "X_train.shape, y_train.shape"
   ]
  },
  {
   "cell_type": "code",
   "execution_count": 96,
   "id": "fbdce8c2",
   "metadata": {},
   "outputs": [
    {
     "data": {
      "text/plain": [
       "(1839,)"
      ]
     },
     "execution_count": 96,
     "metadata": {},
     "output_type": "execute_result"
    }
   ],
   "source": [
    "X_test.shape"
   ]
  },
  {
   "cell_type": "code",
   "execution_count": 98,
   "id": "9c2b6972",
   "metadata": {},
   "outputs": [
    {
     "data": {
      "text/plain": [
       "array(['aight text youre back mu ill swing need somebody get door',\n",
       "       'cant wait see photos useful', 'kothi print marandratha', ...,\n",
       "       'prabhaim sorydarealyfrm heart im sory',\n",
       "       'nt joking seriously told', 'work going min'], dtype=object)"
      ]
     },
     "execution_count": 98,
     "metadata": {},
     "output_type": "execute_result"
    }
   ],
   "source": [
    "X_train"
   ]
  },
  {
   "cell_type": "code",
   "execution_count": null,
   "id": "0c840bdb",
   "metadata": {},
   "outputs": [],
   "source": []
  },
  {
   "cell_type": "code",
   "execution_count": null,
   "id": "439aa250",
   "metadata": {},
   "outputs": [],
   "source": []
  },
  {
   "cell_type": "markdown",
   "id": "df7fbad0",
   "metadata": {},
   "source": [
    "Let's say:\n",
    "The probability of dangerous fires are rare (1%) \n",
    "but smoke is fairly common (10%) due to barbecues,\n",
    "and 90% of dangerous fires make smoke\n",
    "Can you find the probability of dangerous Fire when there is Smoke?\n",
    "\n",
    "1. 0.09\n",
    "2. 0.9\n",
    "3. 0.3\n",
    "4. 0.1"
   ]
  },
  {
   "cell_type": "code",
   "execution_count": 103,
   "id": "606608e5",
   "metadata": {},
   "outputs": [
    {
     "data": {
      "text/plain": [
       "0.1326011251004554"
      ]
     },
     "execution_count": 103,
     "metadata": {},
     "output_type": "execute_result"
    }
   ],
   "source": [
    "(y_train==1).sum()/ y_train.shape[0]"
   ]
  },
  {
   "cell_type": "code",
   "execution_count": 104,
   "id": "d28ac1d6",
   "metadata": {},
   "outputs": [
    {
     "data": {
      "text/plain": [
       "0.8673988748995446"
      ]
     },
     "execution_count": 104,
     "metadata": {},
     "output_type": "execute_result"
    }
   ],
   "source": [
    "(y_train==0).sum()/ y_train.shape[0]"
   ]
  },
  {
   "cell_type": "code",
   "execution_count": 108,
   "id": "e108dc91",
   "metadata": {},
   "outputs": [
    {
     "data": {
      "text/html": [
       "<div>\n",
       "<style scoped>\n",
       "    .dataframe tbody tr th:only-of-type {\n",
       "        vertical-align: middle;\n",
       "    }\n",
       "\n",
       "    .dataframe tbody tr th {\n",
       "        vertical-align: top;\n",
       "    }\n",
       "\n",
       "    .dataframe thead th {\n",
       "        text-align: right;\n",
       "    }\n",
       "</style>\n",
       "<table border=\"1\" class=\"dataframe\">\n",
       "  <thead>\n",
       "    <tr style=\"text-align: right;\">\n",
       "      <th></th>\n",
       "      <th>type</th>\n",
       "      <th>message</th>\n",
       "      <th>clean_text</th>\n",
       "    </tr>\n",
       "  </thead>\n",
       "  <tbody>\n",
       "    <tr>\n",
       "      <th>2</th>\n",
       "      <td>1</td>\n",
       "      <td>Free entry in 2 a wkly comp to win FA Cup fina...</td>\n",
       "      <td>free entry 2 wkly comp win fa cup final tkts 2...</td>\n",
       "    </tr>\n",
       "    <tr>\n",
       "      <th>5</th>\n",
       "      <td>1</td>\n",
       "      <td>FreeMsg Hey there darling it's been 3 week's n...</td>\n",
       "      <td>freemsg hey darling 3 weeks word back id like ...</td>\n",
       "    </tr>\n",
       "    <tr>\n",
       "      <th>8</th>\n",
       "      <td>1</td>\n",
       "      <td>WINNER!! As a valued network customer you have...</td>\n",
       "      <td>winner valued network customer selected receiv...</td>\n",
       "    </tr>\n",
       "    <tr>\n",
       "      <th>9</th>\n",
       "      <td>1</td>\n",
       "      <td>Had your mobile 11 months or more? U R entitle...</td>\n",
       "      <td>mobile 11 months u r entitled update latest co...</td>\n",
       "    </tr>\n",
       "    <tr>\n",
       "      <th>11</th>\n",
       "      <td>1</td>\n",
       "      <td>SIX chances to win CASH! From 100 to 20,000 po...</td>\n",
       "      <td>six chances win cash 100 20000 pounds txt csh1...</td>\n",
       "    </tr>\n",
       "    <tr>\n",
       "      <th>...</th>\n",
       "      <td>...</td>\n",
       "      <td>...</td>\n",
       "      <td>...</td>\n",
       "    </tr>\n",
       "    <tr>\n",
       "      <th>5537</th>\n",
       "      <td>1</td>\n",
       "      <td>Want explicit SEX in 30 secs? Ring 02073162414...</td>\n",
       "      <td>want explicit sex 30 secs ring 02073162414 cos...</td>\n",
       "    </tr>\n",
       "    <tr>\n",
       "      <th>5540</th>\n",
       "      <td>1</td>\n",
       "      <td>ASKED 3MOBILE IF 0870 CHATLINES INCLU IN FREE ...</td>\n",
       "      <td>asked 3mobile 0870 chatlines inclu free mins i...</td>\n",
       "    </tr>\n",
       "    <tr>\n",
       "      <th>5547</th>\n",
       "      <td>1</td>\n",
       "      <td>Had your contract mobile 11 Mnths? Latest Moto...</td>\n",
       "      <td>contract mobile 11 mnths latest motorola nokia...</td>\n",
       "    </tr>\n",
       "    <tr>\n",
       "      <th>5566</th>\n",
       "      <td>1</td>\n",
       "      <td>REMINDER FROM O2: To get 2.50 pounds free call...</td>\n",
       "      <td>reminder o2 get 250 pounds free call credit de...</td>\n",
       "    </tr>\n",
       "    <tr>\n",
       "      <th>5567</th>\n",
       "      <td>1</td>\n",
       "      <td>This is the 2nd time we have tried 2 contact u...</td>\n",
       "      <td>2nd time tried 2 contact u u 750 pound prize 2...</td>\n",
       "    </tr>\n",
       "  </tbody>\n",
       "</table>\n",
       "<p>747 rows × 3 columns</p>\n",
       "</div>"
      ],
      "text/plain": [
       "      type                                            message  \\\n",
       "2        1  Free entry in 2 a wkly comp to win FA Cup fina...   \n",
       "5        1  FreeMsg Hey there darling it's been 3 week's n...   \n",
       "8        1  WINNER!! As a valued network customer you have...   \n",
       "9        1  Had your mobile 11 months or more? U R entitle...   \n",
       "11       1  SIX chances to win CASH! From 100 to 20,000 po...   \n",
       "...    ...                                                ...   \n",
       "5537     1  Want explicit SEX in 30 secs? Ring 02073162414...   \n",
       "5540     1  ASKED 3MOBILE IF 0870 CHATLINES INCLU IN FREE ...   \n",
       "5547     1  Had your contract mobile 11 Mnths? Latest Moto...   \n",
       "5566     1  REMINDER FROM O2: To get 2.50 pounds free call...   \n",
       "5567     1  This is the 2nd time we have tried 2 contact u...   \n",
       "\n",
       "                                             clean_text  \n",
       "2     free entry 2 wkly comp win fa cup final tkts 2...  \n",
       "5     freemsg hey darling 3 weeks word back id like ...  \n",
       "8     winner valued network customer selected receiv...  \n",
       "9     mobile 11 months u r entitled update latest co...  \n",
       "11    six chances win cash 100 20000 pounds txt csh1...  \n",
       "...                                                 ...  \n",
       "5537  want explicit sex 30 secs ring 02073162414 cos...  \n",
       "5540  asked 3mobile 0870 chatlines inclu free mins i...  \n",
       "5547  contract mobile 11 mnths latest motorola nokia...  \n",
       "5566  reminder o2 get 250 pounds free call credit de...  \n",
       "5567  2nd time tried 2 contact u u 750 pound prize 2...  \n",
       "\n",
       "[747 rows x 3 columns]"
      ]
     },
     "execution_count": 108,
     "metadata": {},
     "output_type": "execute_result"
    }
   ],
   "source": [
    "df[df['type'] == 1]"
   ]
  },
  {
   "cell_type": "code",
   "execution_count": 109,
   "id": "8568a824",
   "metadata": {},
   "outputs": [],
   "source": [
    "from sklearn.feature_extraction.text import CountVectorizer # bag of words"
   ]
  },
  {
   "cell_type": "code",
   "execution_count": 112,
   "id": "c7c230c9",
   "metadata": {},
   "outputs": [],
   "source": [
    "vectorizer = CountVectorizer()\n",
    "X_train = vectorizer.fit_transform(X_train)"
   ]
  },
  {
   "cell_type": "code",
   "execution_count": 113,
   "id": "05b1b0dd",
   "metadata": {},
   "outputs": [
    {
     "data": {
      "text/plain": [
       "<3733x7428 sparse matrix of type '<class 'numpy.int64'>'\n",
       "\twith 31467 stored elements in Compressed Sparse Row format>"
      ]
     },
     "execution_count": 113,
     "metadata": {},
     "output_type": "execute_result"
    }
   ],
   "source": [
    "X_train"
   ]
  },
  {
   "cell_type": "code",
   "execution_count": 128,
   "id": "e3232b99",
   "metadata": {},
   "outputs": [
    {
     "data": {
      "text/plain": [
       "array([[0, 0, 0, ..., 0, 0, 0],\n",
       "       [0, 0, 0, ..., 0, 0, 0],\n",
       "       [0, 0, 0, ..., 0, 0, 0],\n",
       "       ...,\n",
       "       [0, 0, 0, ..., 0, 0, 0],\n",
       "       [0, 0, 0, ..., 0, 0, 0],\n",
       "       [0, 0, 0, ..., 0, 0, 0]])"
      ]
     },
     "execution_count": 128,
     "metadata": {},
     "output_type": "execute_result"
    }
   ],
   "source": [
    "X_train.toarray()"
   ]
  },
  {
   "cell_type": "code",
   "execution_count": 131,
   "id": "62bb295c",
   "metadata": {},
   "outputs": [],
   "source": [
    "X_test = vectorizer.transform(X_test)"
   ]
  },
  {
   "cell_type": "code",
   "execution_count": 132,
   "id": "3e05740c",
   "metadata": {},
   "outputs": [
    {
     "data": {
      "text/plain": [
       "<1839x7428 sparse matrix of type '<class 'numpy.int64'>'\n",
       "\twith 13667 stored elements in Compressed Sparse Row format>"
      ]
     },
     "execution_count": 132,
     "metadata": {},
     "output_type": "execute_result"
    }
   ],
   "source": [
    "X_test"
   ]
  },
  {
   "cell_type": "code",
   "execution_count": null,
   "id": "c0bdb77e",
   "metadata": {},
   "outputs": [],
   "source": []
  },
  {
   "cell_type": "code",
   "execution_count": 176,
   "id": "3defffdd",
   "metadata": {},
   "outputs": [],
   "source": [
    "from sklearn.naive_bayes import BernoulliNB, MultinomialNB"
   ]
  },
  {
   "cell_type": "code",
   "execution_count": 134,
   "id": "5a6accc8",
   "metadata": {},
   "outputs": [
    {
     "data": {
      "text/plain": [
       "BernoulliNB()"
      ]
     },
     "execution_count": 134,
     "metadata": {},
     "output_type": "execute_result"
    }
   ],
   "source": [
    "bnb = BernoulliNB()\n",
    "bnb.fit(X_train, y_train)"
   ]
  },
  {
   "cell_type": "code",
   "execution_count": 136,
   "id": "f01662b0",
   "metadata": {},
   "outputs": [],
   "source": [
    "y_pred = bnb.predict(X_test)"
   ]
  },
  {
   "cell_type": "code",
   "execution_count": 137,
   "id": "b69fada8",
   "metadata": {},
   "outputs": [],
   "source": [
    "from sklearn.metrics import f1_score"
   ]
  },
  {
   "cell_type": "code",
   "execution_count": 139,
   "id": "fff33c1a",
   "metadata": {},
   "outputs": [
    {
     "data": {
      "text/plain": [
       "0.93475935828877"
      ]
     },
     "execution_count": 139,
     "metadata": {},
     "output_type": "execute_result"
    }
   ],
   "source": [
    "f1_score(y_train, bnb.predict(X_train) )"
   ]
  },
  {
   "cell_type": "code",
   "execution_count": 138,
   "id": "54a27264",
   "metadata": {},
   "outputs": [
    {
     "data": {
      "text/plain": [
       "0.8755555555555555"
      ]
     },
     "execution_count": 138,
     "metadata": {},
     "output_type": "execute_result"
    }
   ],
   "source": [
    "f1_score(y_test, y_pred)"
   ]
  },
  {
   "cell_type": "code",
   "execution_count": 177,
   "id": "6138b8d0",
   "metadata": {},
   "outputs": [
    {
     "data": {
      "text/plain": [
       "MultinomialNB()"
      ]
     },
     "execution_count": 177,
     "metadata": {},
     "output_type": "execute_result"
    }
   ],
   "source": [
    "mnb = MultinomialNB()\n",
    "mnb.fit(X_train, y_train)"
   ]
  },
  {
   "cell_type": "code",
   "execution_count": 178,
   "id": "f6385b4e",
   "metadata": {},
   "outputs": [],
   "source": [
    "y_pred = mnb.predict(X_test)"
   ]
  },
  {
   "cell_type": "code",
   "execution_count": 179,
   "id": "e5644cf9",
   "metadata": {},
   "outputs": [
    {
     "data": {
      "text/plain": [
       "0.9766970618034448"
      ]
     },
     "execution_count": 179,
     "metadata": {},
     "output_type": "execute_result"
    }
   ],
   "source": [
    "f1_score(y_train, mnb.predict(X_train) )"
   ]
  },
  {
   "cell_type": "code",
   "execution_count": 180,
   "id": "5d661fc0",
   "metadata": {},
   "outputs": [
    {
     "data": {
      "text/plain": [
       "0.9195876288659793"
      ]
     },
     "execution_count": 180,
     "metadata": {},
     "output_type": "execute_result"
    }
   ],
   "source": [
    "f1_score(y_test, y_pred)"
   ]
  },
  {
   "cell_type": "markdown",
   "id": "35443bb4",
   "metadata": {},
   "source": [
    "# Hyper-parameter tuning (alpha)"
   ]
  },
  {
   "cell_type": "code",
   "execution_count": 202,
   "id": "80eded6e",
   "metadata": {},
   "outputs": [],
   "source": [
    "# params = {\n",
    "#     'alpha' : [0.1, 1.0, 5, 10, 20, 50]\n",
    "# }\n",
    "\n",
    "# params = {\n",
    "#     'alpha' : [3, 3.5, 4, 4.5, 5, 5.5, 6, 6.5, 7, 7.5]\n",
    "# }\n",
    "\n",
    "params = {\n",
    "    'alpha' : [2, 2.5, 3, 3.5]\n",
    "}"
   ]
  },
  {
   "cell_type": "code",
   "execution_count": 203,
   "id": "83e83919",
   "metadata": {},
   "outputs": [],
   "source": [
    "from sklearn.model_selection import GridSearchCV"
   ]
  },
  {
   "cell_type": "code",
   "execution_count": 204,
   "id": "a43b1049",
   "metadata": {},
   "outputs": [
    {
     "data": {
      "text/plain": [
       "GridSearchCV(cv=5, estimator=MultinomialNB(),\n",
       "             param_grid={'alpha': [2, 2.5, 3, 3.5]}, scoring='f1')"
      ]
     },
     "execution_count": 204,
     "metadata": {},
     "output_type": "execute_result"
    }
   ],
   "source": [
    "model = MultinomialNB()\n",
    "\n",
    "clf = GridSearchCV(model, param_grid=params, scoring='f1', cv=5)\n",
    "\n",
    "clf.fit(X_train, y_train)"
   ]
  },
  {
   "cell_type": "code",
   "execution_count": 205,
   "id": "bac05f3a",
   "metadata": {},
   "outputs": [],
   "source": [
    "res = clf.cv_results_"
   ]
  },
  {
   "cell_type": "code",
   "execution_count": 206,
   "id": "1c5cfb43",
   "metadata": {},
   "outputs": [
    {
     "data": {
      "text/plain": [
       "array([0.90246406, 0.91110719, 0.91144405, 0.91254649])"
      ]
     },
     "execution_count": 206,
     "metadata": {},
     "output_type": "execute_result"
    }
   ],
   "source": [
    "res['mean_test_score']"
   ]
  },
  {
   "cell_type": "code",
   "execution_count": 207,
   "id": "890c80e9",
   "metadata": {},
   "outputs": [
    {
     "data": {
      "text/plain": [
       "MultinomialNB(alpha=3)"
      ]
     },
     "execution_count": 207,
     "metadata": {},
     "output_type": "execute_result"
    }
   ],
   "source": [
    "model = MultinomialNB(alpha=3)\n",
    "model.fit(X_train, y_train)"
   ]
  },
  {
   "cell_type": "code",
   "execution_count": 208,
   "id": "118bc6be",
   "metadata": {},
   "outputs": [],
   "source": [
    "y_pred = model.predict(X_test)"
   ]
  },
  {
   "cell_type": "code",
   "execution_count": 209,
   "id": "f2ee59fa",
   "metadata": {},
   "outputs": [
    {
     "data": {
      "text/plain": [
       "0.9668737060041407"
      ]
     },
     "execution_count": 209,
     "metadata": {},
     "output_type": "execute_result"
    }
   ],
   "source": [
    "f1_score(y_train, model.predict(X_train) )"
   ]
  },
  {
   "cell_type": "code",
   "execution_count": 210,
   "id": "d89884cc",
   "metadata": {},
   "outputs": [
    {
     "data": {
      "text/plain": [
       "0.9201680672268907"
      ]
     },
     "execution_count": 210,
     "metadata": {},
     "output_type": "execute_result"
    }
   ],
   "source": [
    "f1_score(y_test, y_pred)"
   ]
  },
  {
   "cell_type": "code",
   "execution_count": null,
   "id": "85a5029e",
   "metadata": {},
   "outputs": [],
   "source": []
  },
  {
   "cell_type": "code",
   "execution_count": null,
   "id": "19130fa0",
   "metadata": {},
   "outputs": [],
   "source": []
  }
 ],
 "metadata": {
  "kernelspec": {
   "display_name": "Python 3",
   "language": "python",
   "name": "python3"
  },
  "language_info": {
   "codemirror_mode": {
    "name": "ipython",
    "version": 3
   },
   "file_extension": ".py",
   "mimetype": "text/x-python",
   "name": "python",
   "nbconvert_exporter": "python",
   "pygments_lexer": "ipython3",
   "version": "3.8.8"
  }
 },
 "nbformat": 4,
 "nbformat_minor": 5
}
