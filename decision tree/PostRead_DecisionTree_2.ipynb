{
  "nbformat": 4,
  "nbformat_minor": 0,
  "metadata": {
    "colab": {
      "name": "PostRead-DecisionTree-2.ipynb",
      "provenance": []
    },
    "kernelspec": {
      "name": "python3",
      "display_name": "Python 3"
    },
    "language_info": {
      "name": "python"
    }
  },
  "cells": [
    {
      "cell_type": "markdown",
      "source": [
        "## Content\n",
        "- Code Walkthrough\n",
        "    - Gini Impurity\n",
        "    - Splitting Numerical Feature\n"
      ],
      "metadata": {
        "id": "86wb3IxKNuTv"
      }
    },
    {
      "cell_type": "markdown",
      "source": [
        "## Gini Impurity"
      ],
      "metadata": {
        "id": "igGrSdjOE9bd"
      }
    },
    {
      "cell_type": "markdown",
      "source": [
        "### Code Walkthrough"
      ],
      "metadata": {
        "id": "2gykuYtyKNpb"
      }
    },
    {
      "cell_type": "code",
      "source": [
        "import pandas as pd\n",
        "import numpy as np\n"
      ],
      "metadata": {
        "id": "Mh7XPFCTL1s_"
      },
      "execution_count": null,
      "outputs": []
    },
    {
      "cell_type": "code",
      "source": [
        "!gdown  1l53Fgkg1G1ekCxxgaDQ00EXrnSMTeJj-"
      ],
      "metadata": {
        "colab": {
          "base_uri": "https://localhost:8080/"
        },
        "id": "uirV4ot4Lwf4",
        "outputId": "0d51f160-a3af-43b0-922b-5d60d5474b71"
      },
      "execution_count": null,
      "outputs": [
        {
          "output_type": "stream",
          "name": "stdout",
          "text": [
            "Downloading...\n",
            "From: https://drive.google.com/uc?id=1l53Fgkg1G1ekCxxgaDQ00EXrnSMTeJj-\n",
            "To: /content/sample_data.csv\n",
            "\r  0% 0.00/32.5k [00:00<?, ?B/s]\r100% 32.5k/32.5k [00:00<00:00, 39.0MB/s]\n"
          ]
        }
      ]
    },
    {
      "cell_type": "code",
      "source": [
        "sample_data = pd.read_csv('sample_data.csv')"
      ],
      "metadata": {
        "id": "fIa-41qlLyuh"
      },
      "execution_count": null,
      "outputs": []
    },
    {
      "cell_type": "code",
      "source": [
        "sample_data"
      ],
      "metadata": {
        "colab": {
          "base_uri": "https://localhost:8080/",
          "height": 424
        },
        "id": "CfPhBr4UL1Fq",
        "outputId": "7d9db878-a736-4048-a1d6-48be78b3b902"
      },
      "execution_count": null,
      "outputs": [
        {
          "output_type": "execute_result",
          "data": {
            "text/plain": [
              "     Gender  Age_less_35                    JobRole  Attrition\n",
              "0      Male         True      Laboratory Technician          0\n",
              "1      Male        False            Sales Executive          1\n",
              "2      Male         True       Sales Representative          1\n",
              "3    Female        False  Healthcare Representative          0\n",
              "4      Male         True            Sales Executive          0\n",
              "..      ...          ...                        ...        ...\n",
              "995    Male        False      Laboratory Technician          1\n",
              "996  Female        False     Manufacturing Director          0\n",
              "997  Female         True            Sales Executive          0\n",
              "998    Male        False                    Manager          0\n",
              "999  Female         True      Laboratory Technician          0\n",
              "\n",
              "[1000 rows x 4 columns]"
            ],
            "text/html": [
              "\n",
              "  <div id=\"df-9bcef0e2-dd82-4a31-b732-e171670550cb\">\n",
              "    <div class=\"colab-df-container\">\n",
              "      <div>\n",
              "<style scoped>\n",
              "    .dataframe tbody tr th:only-of-type {\n",
              "        vertical-align: middle;\n",
              "    }\n",
              "\n",
              "    .dataframe tbody tr th {\n",
              "        vertical-align: top;\n",
              "    }\n",
              "\n",
              "    .dataframe thead th {\n",
              "        text-align: right;\n",
              "    }\n",
              "</style>\n",
              "<table border=\"1\" class=\"dataframe\">\n",
              "  <thead>\n",
              "    <tr style=\"text-align: right;\">\n",
              "      <th></th>\n",
              "      <th>Gender</th>\n",
              "      <th>Age_less_35</th>\n",
              "      <th>JobRole</th>\n",
              "      <th>Attrition</th>\n",
              "    </tr>\n",
              "  </thead>\n",
              "  <tbody>\n",
              "    <tr>\n",
              "      <th>0</th>\n",
              "      <td>Male</td>\n",
              "      <td>True</td>\n",
              "      <td>Laboratory Technician</td>\n",
              "      <td>0</td>\n",
              "    </tr>\n",
              "    <tr>\n",
              "      <th>1</th>\n",
              "      <td>Male</td>\n",
              "      <td>False</td>\n",
              "      <td>Sales Executive</td>\n",
              "      <td>1</td>\n",
              "    </tr>\n",
              "    <tr>\n",
              "      <th>2</th>\n",
              "      <td>Male</td>\n",
              "      <td>True</td>\n",
              "      <td>Sales Representative</td>\n",
              "      <td>1</td>\n",
              "    </tr>\n",
              "    <tr>\n",
              "      <th>3</th>\n",
              "      <td>Female</td>\n",
              "      <td>False</td>\n",
              "      <td>Healthcare Representative</td>\n",
              "      <td>0</td>\n",
              "    </tr>\n",
              "    <tr>\n",
              "      <th>4</th>\n",
              "      <td>Male</td>\n",
              "      <td>True</td>\n",
              "      <td>Sales Executive</td>\n",
              "      <td>0</td>\n",
              "    </tr>\n",
              "    <tr>\n",
              "      <th>...</th>\n",
              "      <td>...</td>\n",
              "      <td>...</td>\n",
              "      <td>...</td>\n",
              "      <td>...</td>\n",
              "    </tr>\n",
              "    <tr>\n",
              "      <th>995</th>\n",
              "      <td>Male</td>\n",
              "      <td>False</td>\n",
              "      <td>Laboratory Technician</td>\n",
              "      <td>1</td>\n",
              "    </tr>\n",
              "    <tr>\n",
              "      <th>996</th>\n",
              "      <td>Female</td>\n",
              "      <td>False</td>\n",
              "      <td>Manufacturing Director</td>\n",
              "      <td>0</td>\n",
              "    </tr>\n",
              "    <tr>\n",
              "      <th>997</th>\n",
              "      <td>Female</td>\n",
              "      <td>True</td>\n",
              "      <td>Sales Executive</td>\n",
              "      <td>0</td>\n",
              "    </tr>\n",
              "    <tr>\n",
              "      <th>998</th>\n",
              "      <td>Male</td>\n",
              "      <td>False</td>\n",
              "      <td>Manager</td>\n",
              "      <td>0</td>\n",
              "    </tr>\n",
              "    <tr>\n",
              "      <th>999</th>\n",
              "      <td>Female</td>\n",
              "      <td>True</td>\n",
              "      <td>Laboratory Technician</td>\n",
              "      <td>0</td>\n",
              "    </tr>\n",
              "  </tbody>\n",
              "</table>\n",
              "<p>1000 rows × 4 columns</p>\n",
              "</div>\n",
              "      <button class=\"colab-df-convert\" onclick=\"convertToInteractive('df-9bcef0e2-dd82-4a31-b732-e171670550cb')\"\n",
              "              title=\"Convert this dataframe to an interactive table.\"\n",
              "              style=\"display:none;\">\n",
              "        \n",
              "  <svg xmlns=\"http://www.w3.org/2000/svg\" height=\"24px\"viewBox=\"0 0 24 24\"\n",
              "       width=\"24px\">\n",
              "    <path d=\"M0 0h24v24H0V0z\" fill=\"none\"/>\n",
              "    <path d=\"M18.56 5.44l.94 2.06.94-2.06 2.06-.94-2.06-.94-.94-2.06-.94 2.06-2.06.94zm-11 1L8.5 8.5l.94-2.06 2.06-.94-2.06-.94L8.5 2.5l-.94 2.06-2.06.94zm10 10l.94 2.06.94-2.06 2.06-.94-2.06-.94-.94-2.06-.94 2.06-2.06.94z\"/><path d=\"M17.41 7.96l-1.37-1.37c-.4-.4-.92-.59-1.43-.59-.52 0-1.04.2-1.43.59L10.3 9.45l-7.72 7.72c-.78.78-.78 2.05 0 2.83L4 21.41c.39.39.9.59 1.41.59.51 0 1.02-.2 1.41-.59l7.78-7.78 2.81-2.81c.8-.78.8-2.07 0-2.86zM5.41 20L4 18.59l7.72-7.72 1.47 1.35L5.41 20z\"/>\n",
              "  </svg>\n",
              "      </button>\n",
              "      \n",
              "  <style>\n",
              "    .colab-df-container {\n",
              "      display:flex;\n",
              "      flex-wrap:wrap;\n",
              "      gap: 12px;\n",
              "    }\n",
              "\n",
              "    .colab-df-convert {\n",
              "      background-color: #E8F0FE;\n",
              "      border: none;\n",
              "      border-radius: 50%;\n",
              "      cursor: pointer;\n",
              "      display: none;\n",
              "      fill: #1967D2;\n",
              "      height: 32px;\n",
              "      padding: 0 0 0 0;\n",
              "      width: 32px;\n",
              "    }\n",
              "\n",
              "    .colab-df-convert:hover {\n",
              "      background-color: #E2EBFA;\n",
              "      box-shadow: 0px 1px 2px rgba(60, 64, 67, 0.3), 0px 1px 3px 1px rgba(60, 64, 67, 0.15);\n",
              "      fill: #174EA6;\n",
              "    }\n",
              "\n",
              "    [theme=dark] .colab-df-convert {\n",
              "      background-color: #3B4455;\n",
              "      fill: #D2E3FC;\n",
              "    }\n",
              "\n",
              "    [theme=dark] .colab-df-convert:hover {\n",
              "      background-color: #434B5C;\n",
              "      box-shadow: 0px 1px 3px 1px rgba(0, 0, 0, 0.15);\n",
              "      filter: drop-shadow(0px 1px 2px rgba(0, 0, 0, 0.3));\n",
              "      fill: #FFFFFF;\n",
              "    }\n",
              "  </style>\n",
              "\n",
              "      <script>\n",
              "        const buttonEl =\n",
              "          document.querySelector('#df-9bcef0e2-dd82-4a31-b732-e171670550cb button.colab-df-convert');\n",
              "        buttonEl.style.display =\n",
              "          google.colab.kernel.accessAllowed ? 'block' : 'none';\n",
              "\n",
              "        async function convertToInteractive(key) {\n",
              "          const element = document.querySelector('#df-9bcef0e2-dd82-4a31-b732-e171670550cb');\n",
              "          const dataTable =\n",
              "            await google.colab.kernel.invokeFunction('convertToInteractive',\n",
              "                                                     [key], {});\n",
              "          if (!dataTable) return;\n",
              "\n",
              "          const docLinkHtml = 'Like what you see? Visit the ' +\n",
              "            '<a target=\"_blank\" href=https://colab.research.google.com/notebooks/data_table.ipynb>data table notebook</a>'\n",
              "            + ' to learn more about interactive tables.';\n",
              "          element.innerHTML = '';\n",
              "          dataTable['output_type'] = 'display_data';\n",
              "          await google.colab.output.renderOutput(dataTable, element);\n",
              "          const docLink = document.createElement('div');\n",
              "          docLink.innerHTML = docLinkHtml;\n",
              "          element.appendChild(docLink);\n",
              "        }\n",
              "      </script>\n",
              "    </div>\n",
              "  </div>\n",
              "  "
            ]
          },
          "metadata": {},
          "execution_count": 29
        }
      ]
    },
    {
      "cell_type": "code",
      "source": [
        "sample_data.Attrition.value_counts()"
      ],
      "metadata": {
        "colab": {
          "base_uri": "https://localhost:8080/"
        },
        "id": "nr20EM3-L7Sb",
        "outputId": "e79f0b68-dd30-443b-eef8-c2e983675037"
      },
      "execution_count": null,
      "outputs": [
        {
          "output_type": "execute_result",
          "data": {
            "text/plain": [
              "0    831\n",
              "1    169\n",
              "Name: Attrition, dtype: int64"
            ]
          },
          "metadata": {},
          "execution_count": 30
        }
      ]
    },
    {
      "cell_type": "code",
      "source": [
        "def gini_impurity(y):\n",
        "    \n",
        "  if isinstance(y, pd.Series):\n",
        "    p = y.value_counts()/y.shape[0]\n",
        "    gini = 1-np.sum(p**2)\n",
        "    return gini\n",
        "\n",
        "  else:\n",
        "    raise('Object must be a Pandas Series.')"
      ],
      "metadata": {
        "id": "ZnXguOWCD6yp"
      },
      "execution_count": null,
      "outputs": []
    },
    {
      "cell_type": "code",
      "source": [
        "gini_impurity(sample_data.Attrition)"
      ],
      "metadata": {
        "colab": {
          "base_uri": "https://localhost:8080/"
        },
        "id": "je4xU5JZGth7",
        "outputId": "9724fa8c-8a71-4f01-ee9e-e153d5d79a6f"
      },
      "execution_count": null,
      "outputs": [
        {
          "output_type": "execute_result",
          "data": {
            "text/plain": [
              "0.28087799999999996"
            ]
          },
          "metadata": {},
          "execution_count": 32
        }
      ]
    },
    {
      "cell_type": "markdown",
      "source": [
        "#### Weighted Gini impurity for child node"
      ],
      "metadata": {
        "id": "lQmRJwaPHavh"
      }
    },
    {
      "cell_type": "code",
      "source": [
        "def calculate_weighted_gini(feature, y):\n",
        "    categories = feature.unique()\n",
        "\n",
        "    weighted_gini_impurity = 0\n",
        "\n",
        "    for category in categories:\n",
        "        y_category = y[feature == category]\n",
        "        gini_impurity_category = gini_impurity(y_category)\n",
        "        # print(category)\n",
        "        # print(gini_impurity_category)\n",
        "        weighted_gini_impurity += y_category.shape[0]/y.shape[0]*gini_impurity_category\n",
        "\n",
        "    \n",
        "    return weighted_gini_impurity"
      ],
      "metadata": {
        "id": "yGSoX93wGLK9"
      },
      "execution_count": null,
      "outputs": []
    },
    {
      "cell_type": "code",
      "source": [
        "calculate_weighted_gini(sample_data.Age_less_35, sample_data.Attrition)"
      ],
      "metadata": {
        "colab": {
          "base_uri": "https://localhost:8080/"
        },
        "id": "ZOVzVT1eG3oM",
        "outputId": "48e7fdc7-27fe-4b2e-9eb4-d6a1520ef8e9"
      },
      "execution_count": null,
      "outputs": [
        {
          "output_type": "execute_result",
          "data": {
            "text/plain": [
              "0.2724771918985819"
            ]
          },
          "metadata": {},
          "execution_count": 34
        }
      ]
    },
    {
      "cell_type": "markdown",
      "source": [
        "#### Information Gain"
      ],
      "metadata": {
        "id": "27k6uTUWHeA3"
      }
    },
    {
      "cell_type": "code",
      "source": [
        "def information_gain(feature,y):\n",
        "    parent_gini = gini_impurity(y)\n",
        "\n",
        "    child_gini = calculate_weighted_gini(feature,y)\n",
        "\n",
        "    ig = parent_gini - child_gini\n",
        "\n",
        "    return ig"
      ],
      "metadata": {
        "id": "2ctCHgPXGl1z"
      },
      "execution_count": null,
      "outputs": []
    },
    {
      "cell_type": "code",
      "source": [
        "information_gain(sample_data.Age_less_35, sample_data.Attrition)"
      ],
      "metadata": {
        "colab": {
          "base_uri": "https://localhost:8080/"
        },
        "id": "7OvjWrkiG_Ui",
        "outputId": "74503674-cefe-44e5-de60-c1f5de7289d0"
      },
      "execution_count": null,
      "outputs": [
        {
          "output_type": "execute_result",
          "data": {
            "text/plain": [
              "0.008400808101418078"
            ]
          },
          "metadata": {},
          "execution_count": 36
        }
      ]
    },
    {
      "cell_type": "code",
      "source": [
        "for feature in sample_data.columns[:-1]:\n",
        "    print(f'Information Gain for feature {feature} is {information_gain(sample_data[feature],sample_data.Attrition)}')"
      ],
      "metadata": {
        "colab": {
          "base_uri": "https://localhost:8080/"
        },
        "id": "gClu53cbGofZ",
        "outputId": "b019187e-e0cb-476b-9fe9-a1dd2c5af9ce"
      },
      "execution_count": null,
      "outputs": [
        {
          "output_type": "stream",
          "name": "stdout",
          "text": [
            "Information Gain for feature Gender is 1.2832567979348397e-06\n",
            "Information Gain for feature Age_less_35 is 0.008400808101418078\n",
            "Information Gain for feature JobRole is 0.020654039636781696\n"
          ]
        }
      ]
    },
    {
      "cell_type": "markdown",
      "source": [
        "## Splitting Numerical Feature"
      ],
      "metadata": {
        "id": "pLp9A3sBKINV"
      }
    },
    {
      "cell_type": "code",
      "source": [
        "!gdown 19L3rYatfhbBL1r5MHrv-p_oM2wlvrhqk\n",
        "!gdown 1N7O_fWCTJLu8SIa_paKcDEzllgpMk8sK\n"
      ],
      "metadata": {
        "colab": {
          "base_uri": "https://localhost:8080/"
        },
        "id": "f_7AHDIPMGYb",
        "outputId": "9dcb802f-1f24-4020-d926-aeff056c25e4"
      },
      "execution_count": null,
      "outputs": [
        {
          "output_type": "stream",
          "name": "stdout",
          "text": [
            "Downloading...\n",
            "From: https://drive.google.com/uc?id=19L3rYatfhbBL1r5MHrv-p_oM2wlvrhqk\n",
            "To: /content/preprocessed_X_sm.pickle\n",
            "100% 534k/534k [00:00<00:00, 107MB/s]\n",
            "Downloading...\n",
            "From: https://drive.google.com/uc?id=1N7O_fWCTJLu8SIa_paKcDEzllgpMk8sK\n",
            "To: /content/y_sm.pickle\n",
            "100% 15.4k/15.4k [00:00<00:00, 19.9MB/s]\n"
          ]
        }
      ]
    },
    {
      "cell_type": "code",
      "source": [
        "import pickle\n",
        "# Load data (deserialize)\n",
        "with open('preprocessed_X_sm.pickle', 'rb') as handle:\n",
        "    X_sm = pickle.load(handle)\n",
        "\n",
        "with open('y_sm.pickle', 'rb') as handle:\n",
        "    target = pickle.load(handle)"
      ],
      "metadata": {
        "id": "XDZUF1wxMKni"
      },
      "execution_count": null,
      "outputs": []
    },
    {
      "cell_type": "markdown",
      "source": [
        "### Code walkthrough"
      ],
      "metadata": {
        "id": "6Qe8h5oPLX6j"
      }
    },
    {
      "cell_type": "markdown",
      "source": [
        "Let's split the Age feature and find which threshold is best to split age along with its information gain"
      ],
      "metadata": {
        "id": "npawhnfiTJ76"
      }
    },
    {
      "cell_type": "code",
      "source": [
        "age = X_sm.Age"
      ],
      "metadata": {
        "id": "Yxtg2C6_Labn"
      },
      "execution_count": null,
      "outputs": []
    },
    {
      "cell_type": "markdown",
      "source": [
        "#### Sorting the age "
      ],
      "metadata": {
        "id": "rg0rCxzoTUcx"
      }
    },
    {
      "cell_type": "code",
      "source": [
        "thresholds = age.sort_values().unique()\n",
        "thresholds"
      ],
      "metadata": {
        "colab": {
          "base_uri": "https://localhost:8080/"
        },
        "id": "moMdEdA2TXZa",
        "outputId": "50d1db7c-44dd-476c-933a-20ac0507275c"
      },
      "execution_count": null,
      "outputs": [
        {
          "output_type": "execute_result",
          "data": {
            "text/plain": [
              "array([18, 19, 20, 21, 22, 23, 24, 25, 26, 27, 28, 29, 30, 31, 32, 33, 34,\n",
              "       35, 36, 37, 38, 39, 40, 41, 42, 43, 44, 45, 46, 47, 48, 49, 50, 51,\n",
              "       52, 53, 54, 55, 56, 57, 58, 59, 60])"
            ]
          },
          "metadata": {},
          "execution_count": 41
        }
      ]
    },
    {
      "cell_type": "code",
      "source": [
        "thresholds.shape"
      ],
      "metadata": {
        "colab": {
          "base_uri": "https://localhost:8080/"
        },
        "id": "M4G892znTpAL",
        "outputId": "0ebea103-76ab-45c4-ecf3-684b3f01d7f5"
      },
      "execution_count": null,
      "outputs": [
        {
          "output_type": "execute_result",
          "data": {
            "text/plain": [
              "(43,)"
            ]
          },
          "metadata": {},
          "execution_count": 42
        }
      ]
    },
    {
      "cell_type": "markdown",
      "source": [
        "#### Calculating information gain for each threshold"
      ],
      "metadata": {
        "id": "W3M8i23WTcgF"
      }
    },
    {
      "cell_type": "code",
      "source": [
        "def information_gain(y, mask):\n",
        "    left_node_count = sum(mask)\n",
        "    total = mask.shape[0]\n",
        "    right_node_count = total - left_node_count\n",
        "\n",
        "\n",
        "    parent_gini = gini_impurity(y)\n",
        "\n",
        "    child_gini = left_node_count/total*gini_impurity(y[mask]) + right_node_count/total*gini_impurity(y[~mask])\n",
        "\n",
        "    ig = parent_gini - child_gini\n",
        "    return ig"
      ],
      "metadata": {
        "id": "5NHzdHVHTawZ"
      },
      "execution_count": null,
      "outputs": []
    },
    {
      "cell_type": "code",
      "source": [
        "ig_list = []\n",
        "\n",
        "for thr in thresholds:\n",
        "    mask =   age <= thr \n",
        "    \n",
        "    ig = information_gain(target, mask)\n",
        "    ig_list.append(ig)\n"
      ],
      "metadata": {
        "id": "AZJp_Og0TcH0"
      },
      "execution_count": null,
      "outputs": []
    },
    {
      "cell_type": "code",
      "source": [
        "ig_list = np.array(ig_list)\n",
        "\n",
        "ig_list.shape"
      ],
      "metadata": {
        "colab": {
          "base_uri": "https://localhost:8080/"
        },
        "id": "fdFECiGGTmxP",
        "outputId": "f21f9232-3745-4452-954f-fdcb573e0f4e"
      },
      "execution_count": null,
      "outputs": [
        {
          "output_type": "execute_result",
          "data": {
            "text/plain": [
              "(43,)"
            ]
          },
          "metadata": {},
          "execution_count": 45
        }
      ]
    },
    {
      "cell_type": "markdown",
      "source": [
        "#### Finding threshold with maximum IG"
      ],
      "metadata": {
        "id": "rgeuGHIoT1Rh"
      }
    },
    {
      "cell_type": "code",
      "source": [
        "print(f'Best threshold for Age with maximum IG is {thresholds[ig_list.argmax()]} with IG: {ig_list.max()}')"
      ],
      "metadata": {
        "colab": {
          "base_uri": "https://localhost:8080/"
        },
        "id": "qho46R_WTxeo",
        "outputId": "1c61e989-5e05-4221-b957-82c777b8b42d"
      },
      "execution_count": null,
      "outputs": [
        {
          "output_type": "stream",
          "name": "stdout",
          "text": [
            "Best threshold for Age with maximum IG is 33 with IG: 0.027621195039458812\n"
          ]
        }
      ]
    }
  ]
}